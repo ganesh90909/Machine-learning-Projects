{
 "cells": [
  {
   "cell_type": "code",
   "execution_count": 6,
   "metadata": {},
   "outputs": [],
   "source": [
    "import tensorflow as tf\n",
    "import numpy as np\n",
    "import matplotlib.pyplot as plt\n"
   ]
  },
  {
   "cell_type": "code",
   "execution_count": 7,
   "metadata": {},
   "outputs": [],
   "source": [
    "from tensorflow import keras\n",
    "from tensorflow.keras.models import Model\n",
    "from tensorflow.keras.applications.resnet50 import ResNet50\n",
    "from tensorflow.keras.applications.resnet50 import preprocess_input,decode_predictions\n",
    "from tensorflow.keras.preprocessing import image\n"
   ]
  },
  {
   "cell_type": "code",
   "execution_count": 8,
   "metadata": {},
   "outputs": [
    {
     "name": "stdout",
     "output_type": "stream",
     "text": [
      "Downloading data from https://storage.googleapis.com/download.tensorflow.org/data/imagenet_class_index.json\n",
      "40960/35363 [==================================] - 0s 2us/step\n",
      "predicted:  [('n02504458', 'African_elephant', 0.6461097), ('n01871265', 'tusker', 0.30589238), ('n02504013', 'Indian_elephant', 0.04797788)]\n"
     ]
    }
   ],
   "source": [
    "\n",
    "model=ResNet50(weights='imagenet')\n",
    "\n",
    "image_path='elephant.jpg'\n",
    "img=image.load_img(image_path,target_size=(224,224))\n",
    "x=image.img_to_array(img)\n",
    "x=np.expand_dims(x,axis=0)\n",
    "x=preprocess_input(x)\n",
    "\n",
    "predicts=model.predict(x)\n",
    "print('predicted: ',decode_predictions(predicts,top=3)[0])\n"
   ]
  },
  {
   "cell_type": "code",
   "execution_count": 9,
   "metadata": {},
   "outputs": [
    {
     "name": "stdout",
     "output_type": "stream",
     "text": [
      "predicted:  [('n02110806', 'basenji', 0.3675451), ('n02089867', 'Walker_hound', 0.27885994), ('n02089973', 'English_foxhound', 0.26528123)]\n"
     ]
    }
   ],
   "source": [
    "image_path='beagle.jpg'\n",
    "img=image.load_img(image_path,target_size=(224,224))\n",
    "x=image.img_to_array(img)\n",
    "x=np.expand_dims(x,axis=0)\n",
    "x=preprocess_input(x)\n",
    "\n",
    "predicts=model.predict(x)\n",
    "print('predicted: ',decode_predictions(predicts,top=3)[0])\n",
    "\n"
   ]
  },
  {
   "cell_type": "code",
   "execution_count": 10,
   "metadata": {},
   "outputs": [
    {
     "name": "stdout",
     "output_type": "stream",
     "text": [
      "predicted:  [('n04285008', 'sports_car', 0.35333374), ('n02974003', 'car_wheel', 0.2768045), ('n03459775', 'grille', 0.07534038)]\n"
     ]
    }
   ],
   "source": [
    "image_path='porsche.jpg'\n",
    "img=image.load_img(image_path,target_size=(224,224))\n",
    "x=image.img_to_array(img)\n",
    "x=np.expand_dims(x,axis=0)\n",
    "x=preprocess_input(x)\n",
    "\n",
    "predicts=model.predict(x)\n",
    "print('predicted: ',decode_predictions(predicts,top=3)[0])\n",
    "\n"
   ]
  },
  {
   "cell_type": "code",
   "execution_count": 11,
   "metadata": {},
   "outputs": [
    {
     "name": "stdout",
     "output_type": "stream",
     "text": [
      "predicted:  [('n02389026', 'sorrel', 0.46240294), ('n02091831', 'Saluki', 0.12921159), ('n02422106', 'hartebeest', 0.110234536)]\n"
     ]
    }
   ],
   "source": [
    "image_path='horse.jpeg'\n",
    "img=image.load_img(image_path,target_size=(224,224))\n",
    "x=image.img_to_array(img)\n",
    "x=np.expand_dims(x,axis=0)\n",
    "x=preprocess_input(x)\n",
    "\n",
    "predicts=model.predict(x)\n",
    "print('predicted: ',decode_predictions(predicts,top=3)[0])\n",
    "\n"
   ]
  },
  {
   "cell_type": "code",
   "execution_count": 12,
   "metadata": {},
   "outputs": [
    {
     "name": "stdout",
     "output_type": "stream",
     "text": [
      "predicted:  [('n02124075', 'Egyptian_cat', 0.5594122), ('n02127052', 'lynx', 0.14666416), ('n02123045', 'tabby', 0.1290012)]\n"
     ]
    }
   ],
   "source": [
    "image_path='cat.jpg'\n",
    "img=image.load_img(image_path,target_size=(224,224))\n",
    "x=image.img_to_array(img)\n",
    "x=np.expand_dims(x,axis=0)\n",
    "x=preprocess_input(x)\n",
    "\n",
    "predicts=model.predict(x)\n",
    "print('predicted: ',decode_predictions(predicts,top=3)[0])\n",
    "\n"
   ]
  },
  {
   "cell_type": "code",
   "execution_count": null,
   "metadata": {},
   "outputs": [],
   "source": []
  }
 ],
 "metadata": {
  "kernelspec": {
   "display_name": "Python 3",
   "language": "python",
   "name": "python3"
  },
  "language_info": {
   "codemirror_mode": {
    "name": "ipython",
    "version": 3
   },
   "file_extension": ".py",
   "mimetype": "text/x-python",
   "name": "python",
   "nbconvert_exporter": "python",
   "pygments_lexer": "ipython3",
   "version": "3.7.3"
  }
 },
 "nbformat": 4,
 "nbformat_minor": 2
}
