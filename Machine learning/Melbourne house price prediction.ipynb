{
 "cells": [
  {
   "cell_type": "code",
   "execution_count": 1,
   "metadata": {},
   "outputs": [],
   "source": [
    "import numpy as np\n",
    "import pandas as pd\n",
    "import warnings\n",
    "warnings.filterwarnings('ignore')\n",
    "\n",
    "import matplotlib.pyplot as plt\n",
    "import seaborn as sns\n",
    "\n",
    "from sklearn.linear_model import LinearRegression\n"
   ]
  },
  {
   "cell_type": "code",
   "execution_count": 2,
   "metadata": {},
   "outputs": [],
   "source": [
    "df=pd.read_csv('Melbourne_housing_extra_data.csv')"
   ]
  },
  {
   "cell_type": "code",
   "execution_count": 3,
   "metadata": {},
   "outputs": [
    {
     "data": {
      "text/html": [
       "<div>\n",
       "<style scoped>\n",
       "    .dataframe tbody tr th:only-of-type {\n",
       "        vertical-align: middle;\n",
       "    }\n",
       "\n",
       "    .dataframe tbody tr th {\n",
       "        vertical-align: top;\n",
       "    }\n",
       "\n",
       "    .dataframe thead th {\n",
       "        text-align: right;\n",
       "    }\n",
       "</style>\n",
       "<table border=\"1\" class=\"dataframe\">\n",
       "  <thead>\n",
       "    <tr style=\"text-align: right;\">\n",
       "      <th></th>\n",
       "      <th>Suburb</th>\n",
       "      <th>Address</th>\n",
       "      <th>Rooms</th>\n",
       "      <th>Type</th>\n",
       "      <th>Price</th>\n",
       "      <th>Method</th>\n",
       "      <th>SellerG</th>\n",
       "      <th>Date</th>\n",
       "      <th>Distance</th>\n",
       "      <th>Postcode</th>\n",
       "      <th>...</th>\n",
       "      <th>Bathroom</th>\n",
       "      <th>Car</th>\n",
       "      <th>Landsize</th>\n",
       "      <th>BuildingArea</th>\n",
       "      <th>YearBuilt</th>\n",
       "      <th>CouncilArea</th>\n",
       "      <th>Lattitude</th>\n",
       "      <th>Longtitude</th>\n",
       "      <th>Regionname</th>\n",
       "      <th>Propertycount</th>\n",
       "    </tr>\n",
       "  </thead>\n",
       "  <tbody>\n",
       "    <tr>\n",
       "      <th>0</th>\n",
       "      <td>Abbotsford</td>\n",
       "      <td>68 Studley St</td>\n",
       "      <td>2</td>\n",
       "      <td>h</td>\n",
       "      <td>NaN</td>\n",
       "      <td>SS</td>\n",
       "      <td>Jellis</td>\n",
       "      <td>3/09/2016</td>\n",
       "      <td>2.5</td>\n",
       "      <td>3067.0</td>\n",
       "      <td>...</td>\n",
       "      <td>1.0</td>\n",
       "      <td>1.0</td>\n",
       "      <td>126.0</td>\n",
       "      <td>NaN</td>\n",
       "      <td>NaN</td>\n",
       "      <td>Yarra</td>\n",
       "      <td>-37.8014</td>\n",
       "      <td>144.9958</td>\n",
       "      <td>Northern Metropolitan</td>\n",
       "      <td>4019.0</td>\n",
       "    </tr>\n",
       "    <tr>\n",
       "      <th>1</th>\n",
       "      <td>Abbotsford</td>\n",
       "      <td>85 Turner St</td>\n",
       "      <td>2</td>\n",
       "      <td>h</td>\n",
       "      <td>1480000.0</td>\n",
       "      <td>S</td>\n",
       "      <td>Biggin</td>\n",
       "      <td>3/12/2016</td>\n",
       "      <td>2.5</td>\n",
       "      <td>3067.0</td>\n",
       "      <td>...</td>\n",
       "      <td>1.0</td>\n",
       "      <td>1.0</td>\n",
       "      <td>202.0</td>\n",
       "      <td>NaN</td>\n",
       "      <td>NaN</td>\n",
       "      <td>Yarra</td>\n",
       "      <td>-37.7996</td>\n",
       "      <td>144.9984</td>\n",
       "      <td>Northern Metropolitan</td>\n",
       "      <td>4019.0</td>\n",
       "    </tr>\n",
       "    <tr>\n",
       "      <th>2</th>\n",
       "      <td>Abbotsford</td>\n",
       "      <td>25 Bloomburg St</td>\n",
       "      <td>2</td>\n",
       "      <td>h</td>\n",
       "      <td>1035000.0</td>\n",
       "      <td>S</td>\n",
       "      <td>Biggin</td>\n",
       "      <td>4/02/2016</td>\n",
       "      <td>2.5</td>\n",
       "      <td>3067.0</td>\n",
       "      <td>...</td>\n",
       "      <td>1.0</td>\n",
       "      <td>0.0</td>\n",
       "      <td>156.0</td>\n",
       "      <td>79.0</td>\n",
       "      <td>1900.0</td>\n",
       "      <td>Yarra</td>\n",
       "      <td>-37.8079</td>\n",
       "      <td>144.9934</td>\n",
       "      <td>Northern Metropolitan</td>\n",
       "      <td>4019.0</td>\n",
       "    </tr>\n",
       "    <tr>\n",
       "      <th>3</th>\n",
       "      <td>Abbotsford</td>\n",
       "      <td>18/659 Victoria St</td>\n",
       "      <td>3</td>\n",
       "      <td>u</td>\n",
       "      <td>NaN</td>\n",
       "      <td>VB</td>\n",
       "      <td>Rounds</td>\n",
       "      <td>4/02/2016</td>\n",
       "      <td>2.5</td>\n",
       "      <td>3067.0</td>\n",
       "      <td>...</td>\n",
       "      <td>2.0</td>\n",
       "      <td>1.0</td>\n",
       "      <td>0.0</td>\n",
       "      <td>NaN</td>\n",
       "      <td>NaN</td>\n",
       "      <td>Yarra</td>\n",
       "      <td>-37.8114</td>\n",
       "      <td>145.0116</td>\n",
       "      <td>Northern Metropolitan</td>\n",
       "      <td>4019.0</td>\n",
       "    </tr>\n",
       "    <tr>\n",
       "      <th>4</th>\n",
       "      <td>Abbotsford</td>\n",
       "      <td>5 Charles St</td>\n",
       "      <td>3</td>\n",
       "      <td>h</td>\n",
       "      <td>1465000.0</td>\n",
       "      <td>SP</td>\n",
       "      <td>Biggin</td>\n",
       "      <td>4/03/2017</td>\n",
       "      <td>2.5</td>\n",
       "      <td>3067.0</td>\n",
       "      <td>...</td>\n",
       "      <td>2.0</td>\n",
       "      <td>0.0</td>\n",
       "      <td>134.0</td>\n",
       "      <td>150.0</td>\n",
       "      <td>1900.0</td>\n",
       "      <td>Yarra</td>\n",
       "      <td>-37.8093</td>\n",
       "      <td>144.9944</td>\n",
       "      <td>Northern Metropolitan</td>\n",
       "      <td>4019.0</td>\n",
       "    </tr>\n",
       "    <tr>\n",
       "      <th>5</th>\n",
       "      <td>Abbotsford</td>\n",
       "      <td>40 Federation La</td>\n",
       "      <td>3</td>\n",
       "      <td>h</td>\n",
       "      <td>850000.0</td>\n",
       "      <td>PI</td>\n",
       "      <td>Biggin</td>\n",
       "      <td>4/03/2017</td>\n",
       "      <td>2.5</td>\n",
       "      <td>3067.0</td>\n",
       "      <td>...</td>\n",
       "      <td>2.0</td>\n",
       "      <td>1.0</td>\n",
       "      <td>94.0</td>\n",
       "      <td>NaN</td>\n",
       "      <td>NaN</td>\n",
       "      <td>Yarra</td>\n",
       "      <td>-37.7969</td>\n",
       "      <td>144.9969</td>\n",
       "      <td>Northern Metropolitan</td>\n",
       "      <td>4019.0</td>\n",
       "    </tr>\n",
       "    <tr>\n",
       "      <th>6</th>\n",
       "      <td>Abbotsford</td>\n",
       "      <td>55a Park St</td>\n",
       "      <td>4</td>\n",
       "      <td>h</td>\n",
       "      <td>1600000.0</td>\n",
       "      <td>VB</td>\n",
       "      <td>Nelson</td>\n",
       "      <td>4/06/2016</td>\n",
       "      <td>2.5</td>\n",
       "      <td>3067.0</td>\n",
       "      <td>...</td>\n",
       "      <td>1.0</td>\n",
       "      <td>2.0</td>\n",
       "      <td>120.0</td>\n",
       "      <td>142.0</td>\n",
       "      <td>2014.0</td>\n",
       "      <td>Yarra</td>\n",
       "      <td>-37.8072</td>\n",
       "      <td>144.9941</td>\n",
       "      <td>Northern Metropolitan</td>\n",
       "      <td>4019.0</td>\n",
       "    </tr>\n",
       "    <tr>\n",
       "      <th>7</th>\n",
       "      <td>Abbotsford</td>\n",
       "      <td>16 Maugie St</td>\n",
       "      <td>4</td>\n",
       "      <td>h</td>\n",
       "      <td>NaN</td>\n",
       "      <td>SN</td>\n",
       "      <td>Nelson</td>\n",
       "      <td>6/08/2016</td>\n",
       "      <td>2.5</td>\n",
       "      <td>3067.0</td>\n",
       "      <td>...</td>\n",
       "      <td>2.0</td>\n",
       "      <td>2.0</td>\n",
       "      <td>400.0</td>\n",
       "      <td>220.0</td>\n",
       "      <td>2006.0</td>\n",
       "      <td>Yarra</td>\n",
       "      <td>-37.7965</td>\n",
       "      <td>144.9965</td>\n",
       "      <td>Northern Metropolitan</td>\n",
       "      <td>4019.0</td>\n",
       "    </tr>\n",
       "    <tr>\n",
       "      <th>8</th>\n",
       "      <td>Abbotsford</td>\n",
       "      <td>53 Turner St</td>\n",
       "      <td>2</td>\n",
       "      <td>h</td>\n",
       "      <td>NaN</td>\n",
       "      <td>S</td>\n",
       "      <td>Biggin</td>\n",
       "      <td>6/08/2016</td>\n",
       "      <td>2.5</td>\n",
       "      <td>3067.0</td>\n",
       "      <td>...</td>\n",
       "      <td>1.0</td>\n",
       "      <td>2.0</td>\n",
       "      <td>201.0</td>\n",
       "      <td>NaN</td>\n",
       "      <td>1900.0</td>\n",
       "      <td>Yarra</td>\n",
       "      <td>-37.7995</td>\n",
       "      <td>144.9974</td>\n",
       "      <td>Northern Metropolitan</td>\n",
       "      <td>4019.0</td>\n",
       "    </tr>\n",
       "    <tr>\n",
       "      <th>9</th>\n",
       "      <td>Abbotsford</td>\n",
       "      <td>99 Turner St</td>\n",
       "      <td>2</td>\n",
       "      <td>h</td>\n",
       "      <td>NaN</td>\n",
       "      <td>S</td>\n",
       "      <td>Collins</td>\n",
       "      <td>6/08/2016</td>\n",
       "      <td>2.5</td>\n",
       "      <td>3067.0</td>\n",
       "      <td>...</td>\n",
       "      <td>2.0</td>\n",
       "      <td>1.0</td>\n",
       "      <td>202.0</td>\n",
       "      <td>NaN</td>\n",
       "      <td>1900.0</td>\n",
       "      <td>Yarra</td>\n",
       "      <td>-37.7996</td>\n",
       "      <td>144.9989</td>\n",
       "      <td>Northern Metropolitan</td>\n",
       "      <td>4019.0</td>\n",
       "    </tr>\n",
       "    <tr>\n",
       "      <th>10</th>\n",
       "      <td>Abbotsford</td>\n",
       "      <td>129 Charles St</td>\n",
       "      <td>2</td>\n",
       "      <td>h</td>\n",
       "      <td>941000.0</td>\n",
       "      <td>S</td>\n",
       "      <td>Jellis</td>\n",
       "      <td>7/05/2016</td>\n",
       "      <td>2.5</td>\n",
       "      <td>3067.0</td>\n",
       "      <td>...</td>\n",
       "      <td>1.0</td>\n",
       "      <td>0.0</td>\n",
       "      <td>181.0</td>\n",
       "      <td>NaN</td>\n",
       "      <td>NaN</td>\n",
       "      <td>Yarra</td>\n",
       "      <td>-37.8041</td>\n",
       "      <td>144.9953</td>\n",
       "      <td>Northern Metropolitan</td>\n",
       "      <td>4019.0</td>\n",
       "    </tr>\n",
       "    <tr>\n",
       "      <th>11</th>\n",
       "      <td>Abbotsford</td>\n",
       "      <td>124 Yarra St</td>\n",
       "      <td>3</td>\n",
       "      <td>h</td>\n",
       "      <td>1876000.0</td>\n",
       "      <td>S</td>\n",
       "      <td>Nelson</td>\n",
       "      <td>7/05/2016</td>\n",
       "      <td>2.5</td>\n",
       "      <td>3067.0</td>\n",
       "      <td>...</td>\n",
       "      <td>2.0</td>\n",
       "      <td>0.0</td>\n",
       "      <td>245.0</td>\n",
       "      <td>210.0</td>\n",
       "      <td>1910.0</td>\n",
       "      <td>Yarra</td>\n",
       "      <td>-37.8024</td>\n",
       "      <td>144.9993</td>\n",
       "      <td>Northern Metropolitan</td>\n",
       "      <td>4019.0</td>\n",
       "    </tr>\n",
       "    <tr>\n",
       "      <th>12</th>\n",
       "      <td>Abbotsford</td>\n",
       "      <td>121/56 Nicholson St</td>\n",
       "      <td>2</td>\n",
       "      <td>u</td>\n",
       "      <td>NaN</td>\n",
       "      <td>PI</td>\n",
       "      <td>Biggin</td>\n",
       "      <td>7/11/2016</td>\n",
       "      <td>2.5</td>\n",
       "      <td>3067.0</td>\n",
       "      <td>...</td>\n",
       "      <td>2.0</td>\n",
       "      <td>1.0</td>\n",
       "      <td>4292.0</td>\n",
       "      <td>82.0</td>\n",
       "      <td>2009.0</td>\n",
       "      <td>Yarra</td>\n",
       "      <td>-37.8078</td>\n",
       "      <td>144.9965</td>\n",
       "      <td>Northern Metropolitan</td>\n",
       "      <td>4019.0</td>\n",
       "    </tr>\n",
       "    <tr>\n",
       "      <th>13</th>\n",
       "      <td>Abbotsford</td>\n",
       "      <td>17 Raphael St</td>\n",
       "      <td>4</td>\n",
       "      <td>h</td>\n",
       "      <td>NaN</td>\n",
       "      <td>W</td>\n",
       "      <td>Biggin</td>\n",
       "      <td>7/11/2016</td>\n",
       "      <td>2.5</td>\n",
       "      <td>3067.0</td>\n",
       "      <td>...</td>\n",
       "      <td>2.0</td>\n",
       "      <td>0.0</td>\n",
       "      <td>230.0</td>\n",
       "      <td>147.0</td>\n",
       "      <td>1860.0</td>\n",
       "      <td>Yarra</td>\n",
       "      <td>-37.8066</td>\n",
       "      <td>144.9936</td>\n",
       "      <td>Northern Metropolitan</td>\n",
       "      <td>4019.0</td>\n",
       "    </tr>\n",
       "    <tr>\n",
       "      <th>14</th>\n",
       "      <td>Abbotsford</td>\n",
       "      <td>98 Charles St</td>\n",
       "      <td>2</td>\n",
       "      <td>h</td>\n",
       "      <td>1636000.0</td>\n",
       "      <td>S</td>\n",
       "      <td>Nelson</td>\n",
       "      <td>8/10/2016</td>\n",
       "      <td>2.5</td>\n",
       "      <td>3067.0</td>\n",
       "      <td>...</td>\n",
       "      <td>1.0</td>\n",
       "      <td>2.0</td>\n",
       "      <td>256.0</td>\n",
       "      <td>107.0</td>\n",
       "      <td>1890.0</td>\n",
       "      <td>Yarra</td>\n",
       "      <td>-37.8060</td>\n",
       "      <td>144.9954</td>\n",
       "      <td>Northern Metropolitan</td>\n",
       "      <td>4019.0</td>\n",
       "    </tr>\n",
       "    <tr>\n",
       "      <th>15</th>\n",
       "      <td>Abbotsford</td>\n",
       "      <td>217 Langridge St</td>\n",
       "      <td>3</td>\n",
       "      <td>h</td>\n",
       "      <td>1000000.0</td>\n",
       "      <td>S</td>\n",
       "      <td>Jellis</td>\n",
       "      <td>8/10/2016</td>\n",
       "      <td>2.5</td>\n",
       "      <td>3067.0</td>\n",
       "      <td>...</td>\n",
       "      <td>NaN</td>\n",
       "      <td>NaN</td>\n",
       "      <td>NaN</td>\n",
       "      <td>NaN</td>\n",
       "      <td>NaN</td>\n",
       "      <td>NaN</td>\n",
       "      <td>NaN</td>\n",
       "      <td>NaN</td>\n",
       "      <td>Northern Metropolitan</td>\n",
       "      <td>4019.0</td>\n",
       "    </tr>\n",
       "    <tr>\n",
       "      <th>16</th>\n",
       "      <td>Abbotsford</td>\n",
       "      <td>18a Mollison St</td>\n",
       "      <td>2</td>\n",
       "      <td>t</td>\n",
       "      <td>745000.0</td>\n",
       "      <td>S</td>\n",
       "      <td>Jellis</td>\n",
       "      <td>8/10/2016</td>\n",
       "      <td>2.5</td>\n",
       "      <td>3067.0</td>\n",
       "      <td>...</td>\n",
       "      <td>NaN</td>\n",
       "      <td>NaN</td>\n",
       "      <td>NaN</td>\n",
       "      <td>NaN</td>\n",
       "      <td>NaN</td>\n",
       "      <td>NaN</td>\n",
       "      <td>NaN</td>\n",
       "      <td>NaN</td>\n",
       "      <td>Northern Metropolitan</td>\n",
       "      <td>4019.0</td>\n",
       "    </tr>\n",
       "    <tr>\n",
       "      <th>17</th>\n",
       "      <td>Abbotsford</td>\n",
       "      <td>6/241 Nicholson St</td>\n",
       "      <td>1</td>\n",
       "      <td>u</td>\n",
       "      <td>300000.0</td>\n",
       "      <td>S</td>\n",
       "      <td>Biggin</td>\n",
       "      <td>8/10/2016</td>\n",
       "      <td>2.5</td>\n",
       "      <td>3067.0</td>\n",
       "      <td>...</td>\n",
       "      <td>1.0</td>\n",
       "      <td>1.0</td>\n",
       "      <td>0.0</td>\n",
       "      <td>NaN</td>\n",
       "      <td>NaN</td>\n",
       "      <td>Yarra</td>\n",
       "      <td>-37.8008</td>\n",
       "      <td>144.9973</td>\n",
       "      <td>Northern Metropolitan</td>\n",
       "      <td>4019.0</td>\n",
       "    </tr>\n",
       "    <tr>\n",
       "      <th>18</th>\n",
       "      <td>Abbotsford</td>\n",
       "      <td>10 Valiant St</td>\n",
       "      <td>2</td>\n",
       "      <td>h</td>\n",
       "      <td>1097000.0</td>\n",
       "      <td>S</td>\n",
       "      <td>Biggin</td>\n",
       "      <td>8/10/2016</td>\n",
       "      <td>2.5</td>\n",
       "      <td>3067.0</td>\n",
       "      <td>...</td>\n",
       "      <td>1.0</td>\n",
       "      <td>2.0</td>\n",
       "      <td>220.0</td>\n",
       "      <td>75.0</td>\n",
       "      <td>1900.0</td>\n",
       "      <td>Yarra</td>\n",
       "      <td>-37.8010</td>\n",
       "      <td>144.9989</td>\n",
       "      <td>Northern Metropolitan</td>\n",
       "      <td>4019.0</td>\n",
       "    </tr>\n",
       "    <tr>\n",
       "      <th>19</th>\n",
       "      <td>Abbotsford</td>\n",
       "      <td>403/609 Victoria St</td>\n",
       "      <td>2</td>\n",
       "      <td>u</td>\n",
       "      <td>542000.0</td>\n",
       "      <td>S</td>\n",
       "      <td>Dingle</td>\n",
       "      <td>8/10/2016</td>\n",
       "      <td>2.5</td>\n",
       "      <td>3067.0</td>\n",
       "      <td>...</td>\n",
       "      <td>NaN</td>\n",
       "      <td>NaN</td>\n",
       "      <td>NaN</td>\n",
       "      <td>NaN</td>\n",
       "      <td>NaN</td>\n",
       "      <td>NaN</td>\n",
       "      <td>NaN</td>\n",
       "      <td>NaN</td>\n",
       "      <td>Northern Metropolitan</td>\n",
       "      <td>4019.0</td>\n",
       "    </tr>\n",
       "  </tbody>\n",
       "</table>\n",
       "<p>20 rows × 21 columns</p>\n",
       "</div>"
      ],
      "text/plain": [
       "        Suburb              Address  Rooms Type      Price Method  SellerG  \\\n",
       "0   Abbotsford        68 Studley St      2    h        NaN     SS   Jellis   \n",
       "1   Abbotsford         85 Turner St      2    h  1480000.0      S   Biggin   \n",
       "2   Abbotsford      25 Bloomburg St      2    h  1035000.0      S   Biggin   \n",
       "3   Abbotsford   18/659 Victoria St      3    u        NaN     VB   Rounds   \n",
       "4   Abbotsford         5 Charles St      3    h  1465000.0     SP   Biggin   \n",
       "5   Abbotsford     40 Federation La      3    h   850000.0     PI   Biggin   \n",
       "6   Abbotsford          55a Park St      4    h  1600000.0     VB   Nelson   \n",
       "7   Abbotsford         16 Maugie St      4    h        NaN     SN   Nelson   \n",
       "8   Abbotsford         53 Turner St      2    h        NaN      S   Biggin   \n",
       "9   Abbotsford         99 Turner St      2    h        NaN      S  Collins   \n",
       "10  Abbotsford       129 Charles St      2    h   941000.0      S   Jellis   \n",
       "11  Abbotsford         124 Yarra St      3    h  1876000.0      S   Nelson   \n",
       "12  Abbotsford  121/56 Nicholson St      2    u        NaN     PI   Biggin   \n",
       "13  Abbotsford        17 Raphael St      4    h        NaN      W   Biggin   \n",
       "14  Abbotsford        98 Charles St      2    h  1636000.0      S   Nelson   \n",
       "15  Abbotsford     217 Langridge St      3    h  1000000.0      S   Jellis   \n",
       "16  Abbotsford      18a Mollison St      2    t   745000.0      S   Jellis   \n",
       "17  Abbotsford   6/241 Nicholson St      1    u   300000.0      S   Biggin   \n",
       "18  Abbotsford        10 Valiant St      2    h  1097000.0      S   Biggin   \n",
       "19  Abbotsford  403/609 Victoria St      2    u   542000.0      S   Dingle   \n",
       "\n",
       "         Date  Distance  Postcode  ...  Bathroom  Car  Landsize  BuildingArea  \\\n",
       "0   3/09/2016       2.5    3067.0  ...       1.0  1.0     126.0           NaN   \n",
       "1   3/12/2016       2.5    3067.0  ...       1.0  1.0     202.0           NaN   \n",
       "2   4/02/2016       2.5    3067.0  ...       1.0  0.0     156.0          79.0   \n",
       "3   4/02/2016       2.5    3067.0  ...       2.0  1.0       0.0           NaN   \n",
       "4   4/03/2017       2.5    3067.0  ...       2.0  0.0     134.0         150.0   \n",
       "5   4/03/2017       2.5    3067.0  ...       2.0  1.0      94.0           NaN   \n",
       "6   4/06/2016       2.5    3067.0  ...       1.0  2.0     120.0         142.0   \n",
       "7   6/08/2016       2.5    3067.0  ...       2.0  2.0     400.0         220.0   \n",
       "8   6/08/2016       2.5    3067.0  ...       1.0  2.0     201.0           NaN   \n",
       "9   6/08/2016       2.5    3067.0  ...       2.0  1.0     202.0           NaN   \n",
       "10  7/05/2016       2.5    3067.0  ...       1.0  0.0     181.0           NaN   \n",
       "11  7/05/2016       2.5    3067.0  ...       2.0  0.0     245.0         210.0   \n",
       "12  7/11/2016       2.5    3067.0  ...       2.0  1.0    4292.0          82.0   \n",
       "13  7/11/2016       2.5    3067.0  ...       2.0  0.0     230.0         147.0   \n",
       "14  8/10/2016       2.5    3067.0  ...       1.0  2.0     256.0         107.0   \n",
       "15  8/10/2016       2.5    3067.0  ...       NaN  NaN       NaN           NaN   \n",
       "16  8/10/2016       2.5    3067.0  ...       NaN  NaN       NaN           NaN   \n",
       "17  8/10/2016       2.5    3067.0  ...       1.0  1.0       0.0           NaN   \n",
       "18  8/10/2016       2.5    3067.0  ...       1.0  2.0     220.0          75.0   \n",
       "19  8/10/2016       2.5    3067.0  ...       NaN  NaN       NaN           NaN   \n",
       "\n",
       "    YearBuilt  CouncilArea Lattitude  Longtitude             Regionname  \\\n",
       "0         NaN        Yarra  -37.8014    144.9958  Northern Metropolitan   \n",
       "1         NaN        Yarra  -37.7996    144.9984  Northern Metropolitan   \n",
       "2      1900.0        Yarra  -37.8079    144.9934  Northern Metropolitan   \n",
       "3         NaN        Yarra  -37.8114    145.0116  Northern Metropolitan   \n",
       "4      1900.0        Yarra  -37.8093    144.9944  Northern Metropolitan   \n",
       "5         NaN        Yarra  -37.7969    144.9969  Northern Metropolitan   \n",
       "6      2014.0        Yarra  -37.8072    144.9941  Northern Metropolitan   \n",
       "7      2006.0        Yarra  -37.7965    144.9965  Northern Metropolitan   \n",
       "8      1900.0        Yarra  -37.7995    144.9974  Northern Metropolitan   \n",
       "9      1900.0        Yarra  -37.7996    144.9989  Northern Metropolitan   \n",
       "10        NaN        Yarra  -37.8041    144.9953  Northern Metropolitan   \n",
       "11     1910.0        Yarra  -37.8024    144.9993  Northern Metropolitan   \n",
       "12     2009.0        Yarra  -37.8078    144.9965  Northern Metropolitan   \n",
       "13     1860.0        Yarra  -37.8066    144.9936  Northern Metropolitan   \n",
       "14     1890.0        Yarra  -37.8060    144.9954  Northern Metropolitan   \n",
       "15        NaN          NaN       NaN         NaN  Northern Metropolitan   \n",
       "16        NaN          NaN       NaN         NaN  Northern Metropolitan   \n",
       "17        NaN        Yarra  -37.8008    144.9973  Northern Metropolitan   \n",
       "18     1900.0        Yarra  -37.8010    144.9989  Northern Metropolitan   \n",
       "19        NaN          NaN       NaN         NaN  Northern Metropolitan   \n",
       "\n",
       "   Propertycount  \n",
       "0         4019.0  \n",
       "1         4019.0  \n",
       "2         4019.0  \n",
       "3         4019.0  \n",
       "4         4019.0  \n",
       "5         4019.0  \n",
       "6         4019.0  \n",
       "7         4019.0  \n",
       "8         4019.0  \n",
       "9         4019.0  \n",
       "10        4019.0  \n",
       "11        4019.0  \n",
       "12        4019.0  \n",
       "13        4019.0  \n",
       "14        4019.0  \n",
       "15        4019.0  \n",
       "16        4019.0  \n",
       "17        4019.0  \n",
       "18        4019.0  \n",
       "19        4019.0  \n",
       "\n",
       "[20 rows x 21 columns]"
      ]
     },
     "execution_count": 3,
     "metadata": {},
     "output_type": "execute_result"
    }
   ],
   "source": [
    "df.head(20)"
   ]
  },
  {
   "cell_type": "code",
   "execution_count": 4,
   "metadata": {},
   "outputs": [
    {
     "data": {
      "text/plain": [
       "(19740, 21)"
      ]
     },
     "execution_count": 4,
     "metadata": {},
     "output_type": "execute_result"
    }
   ],
   "source": [
    "df.shape"
   ]
  },
  {
   "cell_type": "code",
   "execution_count": 5,
   "metadata": {},
   "outputs": [
    {
     "name": "stdout",
     "output_type": "stream",
     "text": [
      "<class 'pandas.core.frame.DataFrame'>\n",
      "RangeIndex: 19740 entries, 0 to 19739\n",
      "Data columns (total 21 columns):\n",
      "Suburb           19740 non-null object\n",
      "Address          19740 non-null object\n",
      "Rooms            19740 non-null int64\n",
      "Type             19740 non-null object\n",
      "Price            15396 non-null float64\n",
      "Method           19740 non-null object\n",
      "SellerG          19740 non-null object\n",
      "Date             19740 non-null object\n",
      "Distance         19732 non-null float64\n",
      "Postcode         19732 non-null float64\n",
      "Bedroom2         15327 non-null float64\n",
      "Bathroom         15327 non-null float64\n",
      "Car              15327 non-null float64\n",
      "Landsize         14944 non-null float64\n",
      "BuildingArea     8617 non-null float64\n",
      "YearBuilt        9351 non-null float64\n",
      "CouncilArea      15296 non-null object\n",
      "Lattitude        15448 non-null float64\n",
      "Longtitude       15448 non-null float64\n",
      "Regionname       19732 non-null object\n",
      "Propertycount    19732 non-null float64\n",
      "dtypes: float64(12), int64(1), object(8)\n",
      "memory usage: 3.2+ MB\n"
     ]
    }
   ],
   "source": [
    "df.info()"
   ]
  },
  {
   "cell_type": "code",
   "execution_count": 6,
   "metadata": {},
   "outputs": [
    {
     "data": {
      "text/plain": [
       "Index(['Suburb', 'Address', 'Rooms', 'Type', 'Price', 'Method', 'SellerG',\n",
       "       'Date', 'Distance', 'Postcode', 'Bedroom2', 'Bathroom', 'Car',\n",
       "       'Landsize', 'BuildingArea', 'YearBuilt', 'CouncilArea', 'Lattitude',\n",
       "       'Longtitude', 'Regionname', 'Propertycount'],\n",
       "      dtype='object')"
      ]
     },
     "execution_count": 6,
     "metadata": {},
     "output_type": "execute_result"
    }
   ],
   "source": [
    "df.columns"
   ]
  },
  {
   "cell_type": "code",
   "execution_count": 7,
   "metadata": {},
   "outputs": [
    {
     "data": {
      "text/plain": [
       "array([ 2.,  3.,  4.,  6., nan,  1.,  5.,  7.,  0.,  8.,  9., 30., 20.,\n",
       "       10.])"
      ]
     },
     "execution_count": 7,
     "metadata": {},
     "output_type": "execute_result"
    }
   ],
   "source": [
    " df['Bedroom2'].unique()"
   ]
  },
  {
   "cell_type": "code",
   "execution_count": 8,
   "metadata": {},
   "outputs": [
    {
     "data": {
      "text/html": [
       "<div>\n",
       "<style scoped>\n",
       "    .dataframe tbody tr th:only-of-type {\n",
       "        vertical-align: middle;\n",
       "    }\n",
       "\n",
       "    .dataframe tbody tr th {\n",
       "        vertical-align: top;\n",
       "    }\n",
       "\n",
       "    .dataframe thead th {\n",
       "        text-align: right;\n",
       "    }\n",
       "</style>\n",
       "<table border=\"1\" class=\"dataframe\">\n",
       "  <thead>\n",
       "    <tr style=\"text-align: right;\">\n",
       "      <th></th>\n",
       "      <th>Rooms</th>\n",
       "      <th>Price</th>\n",
       "      <th>Distance</th>\n",
       "      <th>Postcode</th>\n",
       "      <th>Bedroom2</th>\n",
       "      <th>Bathroom</th>\n",
       "      <th>Car</th>\n",
       "      <th>Landsize</th>\n",
       "      <th>BuildingArea</th>\n",
       "      <th>YearBuilt</th>\n",
       "      <th>Lattitude</th>\n",
       "      <th>Longtitude</th>\n",
       "      <th>Propertycount</th>\n",
       "    </tr>\n",
       "  </thead>\n",
       "  <tbody>\n",
       "    <tr>\n",
       "      <th>count</th>\n",
       "      <td>19740.000000</td>\n",
       "      <td>1.539600e+04</td>\n",
       "      <td>19732.000000</td>\n",
       "      <td>19732.000000</td>\n",
       "      <td>15327.000000</td>\n",
       "      <td>15327.000000</td>\n",
       "      <td>15327.000000</td>\n",
       "      <td>14944.000000</td>\n",
       "      <td>8617.000000</td>\n",
       "      <td>9351.000000</td>\n",
       "      <td>15448.000000</td>\n",
       "      <td>15448.000000</td>\n",
       "      <td>19732.000000</td>\n",
       "    </tr>\n",
       "    <tr>\n",
       "      <th>mean</th>\n",
       "      <td>2.947163</td>\n",
       "      <td>1.054957e+06</td>\n",
       "      <td>9.861509</td>\n",
       "      <td>3106.533904</td>\n",
       "      <td>2.900568</td>\n",
       "      <td>1.548509</td>\n",
       "      <td>1.578065</td>\n",
       "      <td>583.917090</td>\n",
       "      <td>196.806973</td>\n",
       "      <td>1874.165655</td>\n",
       "      <td>-37.811892</td>\n",
       "      <td>144.996632</td>\n",
       "      <td>7509.802706</td>\n",
       "    </tr>\n",
       "    <tr>\n",
       "      <th>std</th>\n",
       "      <td>0.981048</td>\n",
       "      <td>6.452557e+05</td>\n",
       "      <td>5.554233</td>\n",
       "      <td>88.429928</td>\n",
       "      <td>1.007491</td>\n",
       "      <td>0.713385</td>\n",
       "      <td>0.972221</td>\n",
       "      <td>3785.423175</td>\n",
       "      <td>561.558007</td>\n",
       "      <td>393.354888</td>\n",
       "      <td>0.072708</td>\n",
       "      <td>0.096178</td>\n",
       "      <td>4419.678648</td>\n",
       "    </tr>\n",
       "    <tr>\n",
       "      <th>min</th>\n",
       "      <td>1.000000</td>\n",
       "      <td>8.500000e+04</td>\n",
       "      <td>0.000000</td>\n",
       "      <td>3000.000000</td>\n",
       "      <td>0.000000</td>\n",
       "      <td>0.000000</td>\n",
       "      <td>0.000000</td>\n",
       "      <td>0.000000</td>\n",
       "      <td>0.000000</td>\n",
       "      <td>1.000000</td>\n",
       "      <td>-38.182550</td>\n",
       "      <td>144.431620</td>\n",
       "      <td>249.000000</td>\n",
       "    </tr>\n",
       "    <tr>\n",
       "      <th>25%</th>\n",
       "      <td>2.000000</td>\n",
       "      <td>6.300000e+05</td>\n",
       "      <td>6.100000</td>\n",
       "      <td>3046.000000</td>\n",
       "      <td>2.000000</td>\n",
       "      <td>1.000000</td>\n",
       "      <td>1.000000</td>\n",
       "      <td>166.000000</td>\n",
       "      <td>94.000000</td>\n",
       "      <td>1930.000000</td>\n",
       "      <td>-37.856860</td>\n",
       "      <td>144.939323</td>\n",
       "      <td>4407.000000</td>\n",
       "    </tr>\n",
       "    <tr>\n",
       "      <th>50%</th>\n",
       "      <td>3.000000</td>\n",
       "      <td>8.800000e+05</td>\n",
       "      <td>9.200000</td>\n",
       "      <td>3101.000000</td>\n",
       "      <td>3.000000</td>\n",
       "      <td>1.000000</td>\n",
       "      <td>2.000000</td>\n",
       "      <td>420.000000</td>\n",
       "      <td>132.000000</td>\n",
       "      <td>1965.000000</td>\n",
       "      <td>-37.808965</td>\n",
       "      <td>145.000900</td>\n",
       "      <td>6567.000000</td>\n",
       "    </tr>\n",
       "    <tr>\n",
       "      <th>75%</th>\n",
       "      <td>4.000000</td>\n",
       "      <td>1.301000e+06</td>\n",
       "      <td>12.600000</td>\n",
       "      <td>3147.000000</td>\n",
       "      <td>3.000000</td>\n",
       "      <td>2.000000</td>\n",
       "      <td>2.000000</td>\n",
       "      <td>663.000000</td>\n",
       "      <td>199.000000</td>\n",
       "      <td>1997.000000</td>\n",
       "      <td>-37.761897</td>\n",
       "      <td>145.054710</td>\n",
       "      <td>10331.000000</td>\n",
       "    </tr>\n",
       "    <tr>\n",
       "      <th>max</th>\n",
       "      <td>12.000000</td>\n",
       "      <td>9.000000e+06</td>\n",
       "      <td>47.400000</td>\n",
       "      <td>3978.000000</td>\n",
       "      <td>30.000000</td>\n",
       "      <td>12.000000</td>\n",
       "      <td>26.000000</td>\n",
       "      <td>433014.000000</td>\n",
       "      <td>40468.000000</td>\n",
       "      <td>2106.000000</td>\n",
       "      <td>-37.413810</td>\n",
       "      <td>145.526350</td>\n",
       "      <td>21650.000000</td>\n",
       "    </tr>\n",
       "  </tbody>\n",
       "</table>\n",
       "</div>"
      ],
      "text/plain": [
       "              Rooms         Price      Distance      Postcode      Bedroom2  \\\n",
       "count  19740.000000  1.539600e+04  19732.000000  19732.000000  15327.000000   \n",
       "mean       2.947163  1.054957e+06      9.861509   3106.533904      2.900568   \n",
       "std        0.981048  6.452557e+05      5.554233     88.429928      1.007491   \n",
       "min        1.000000  8.500000e+04      0.000000   3000.000000      0.000000   \n",
       "25%        2.000000  6.300000e+05      6.100000   3046.000000      2.000000   \n",
       "50%        3.000000  8.800000e+05      9.200000   3101.000000      3.000000   \n",
       "75%        4.000000  1.301000e+06     12.600000   3147.000000      3.000000   \n",
       "max       12.000000  9.000000e+06     47.400000   3978.000000     30.000000   \n",
       "\n",
       "           Bathroom           Car       Landsize  BuildingArea    YearBuilt  \\\n",
       "count  15327.000000  15327.000000   14944.000000   8617.000000  9351.000000   \n",
       "mean       1.548509      1.578065     583.917090    196.806973  1874.165655   \n",
       "std        0.713385      0.972221    3785.423175    561.558007   393.354888   \n",
       "min        0.000000      0.000000       0.000000      0.000000     1.000000   \n",
       "25%        1.000000      1.000000     166.000000     94.000000  1930.000000   \n",
       "50%        1.000000      2.000000     420.000000    132.000000  1965.000000   \n",
       "75%        2.000000      2.000000     663.000000    199.000000  1997.000000   \n",
       "max       12.000000     26.000000  433014.000000  40468.000000  2106.000000   \n",
       "\n",
       "          Lattitude    Longtitude  Propertycount  \n",
       "count  15448.000000  15448.000000   19732.000000  \n",
       "mean     -37.811892    144.996632    7509.802706  \n",
       "std        0.072708      0.096178    4419.678648  \n",
       "min      -38.182550    144.431620     249.000000  \n",
       "25%      -37.856860    144.939323    4407.000000  \n",
       "50%      -37.808965    145.000900    6567.000000  \n",
       "75%      -37.761897    145.054710   10331.000000  \n",
       "max      -37.413810    145.526350   21650.000000  "
      ]
     },
     "execution_count": 8,
     "metadata": {},
     "output_type": "execute_result"
    }
   ],
   "source": [
    "df.describe()"
   ]
  },
  {
   "cell_type": "code",
   "execution_count": 9,
   "metadata": {},
   "outputs": [
    {
     "data": {
      "text/plain": [
       "330"
      ]
     },
     "execution_count": 9,
     "metadata": {},
     "output_type": "execute_result"
    }
   ],
   "source": [
    "df['Suburb'].nunique()"
   ]
  },
  {
   "cell_type": "code",
   "execution_count": 10,
   "metadata": {},
   "outputs": [
    {
     "data": {
      "text/plain": [
       "204"
      ]
     },
     "execution_count": 10,
     "metadata": {},
     "output_type": "execute_result"
    }
   ],
   "source": [
    "df['Postcode'].nunique()"
   ]
  },
  {
   "cell_type": "code",
   "execution_count": 11,
   "metadata": {},
   "outputs": [
    {
     "data": {
      "text/plain": [
       "325"
      ]
     },
     "execution_count": 11,
     "metadata": {},
     "output_type": "execute_result"
    }
   ],
   "source": [
    "df['Propertycount'].nunique()"
   ]
  },
  {
   "cell_type": "code",
   "execution_count": 12,
   "metadata": {},
   "outputs": [
    {
     "data": {
      "text/html": [
       "<div>\n",
       "<style scoped>\n",
       "    .dataframe tbody tr th:only-of-type {\n",
       "        vertical-align: middle;\n",
       "    }\n",
       "\n",
       "    .dataframe tbody tr th {\n",
       "        vertical-align: top;\n",
       "    }\n",
       "\n",
       "    .dataframe thead th {\n",
       "        text-align: right;\n",
       "    }\n",
       "</style>\n",
       "<table border=\"1\" class=\"dataframe\">\n",
       "  <thead>\n",
       "    <tr style=\"text-align: right;\">\n",
       "      <th></th>\n",
       "      <th>Rooms</th>\n",
       "      <th>Price</th>\n",
       "      <th>Distance</th>\n",
       "      <th>Postcode</th>\n",
       "      <th>Bedroom2</th>\n",
       "      <th>Bathroom</th>\n",
       "      <th>Car</th>\n",
       "      <th>Landsize</th>\n",
       "      <th>BuildingArea</th>\n",
       "      <th>YearBuilt</th>\n",
       "      <th>Lattitude</th>\n",
       "      <th>Longtitude</th>\n",
       "      <th>Propertycount</th>\n",
       "    </tr>\n",
       "  </thead>\n",
       "  <tbody>\n",
       "    <tr>\n",
       "      <th>Rooms</th>\n",
       "      <td>1.000000</td>\n",
       "      <td>0.509418</td>\n",
       "      <td>0.269207</td>\n",
       "      <td>0.061950</td>\n",
       "      <td>0.813577</td>\n",
       "      <td>0.530170</td>\n",
       "      <td>0.360047</td>\n",
       "      <td>0.031944</td>\n",
       "      <td>0.094990</td>\n",
       "      <td>-0.025048</td>\n",
       "      <td>0.011168</td>\n",
       "      <td>0.087867</td>\n",
       "      <td>-0.092812</td>\n",
       "    </tr>\n",
       "    <tr>\n",
       "      <th>Price</th>\n",
       "      <td>0.509418</td>\n",
       "      <td>1.000000</td>\n",
       "      <td>-0.148968</td>\n",
       "      <td>0.122798</td>\n",
       "      <td>0.451911</td>\n",
       "      <td>0.437245</td>\n",
       "      <td>0.235596</td>\n",
       "      <td>0.035592</td>\n",
       "      <td>0.067846</td>\n",
       "      <td>0.049644</td>\n",
       "      <td>-0.174797</td>\n",
       "      <td>0.171292</td>\n",
       "      <td>-0.048676</td>\n",
       "    </tr>\n",
       "    <tr>\n",
       "      <th>Distance</th>\n",
       "      <td>0.269207</td>\n",
       "      <td>-0.148968</td>\n",
       "      <td>1.000000</td>\n",
       "      <td>0.405859</td>\n",
       "      <td>0.227853</td>\n",
       "      <td>0.095149</td>\n",
       "      <td>0.219264</td>\n",
       "      <td>0.049019</td>\n",
       "      <td>0.086541</td>\n",
       "      <td>-0.191171</td>\n",
       "      <td>-0.074757</td>\n",
       "      <td>0.168699</td>\n",
       "      <td>-0.075737</td>\n",
       "    </tr>\n",
       "    <tr>\n",
       "      <th>Postcode</th>\n",
       "      <td>0.061950</td>\n",
       "      <td>0.122798</td>\n",
       "      <td>0.405859</td>\n",
       "      <td>1.000000</td>\n",
       "      <td>0.042358</td>\n",
       "      <td>0.090628</td>\n",
       "      <td>0.030805</td>\n",
       "      <td>0.030740</td>\n",
       "      <td>0.057683</td>\n",
       "      <td>-0.094906</td>\n",
       "      <td>-0.373963</td>\n",
       "      <td>0.355115</td>\n",
       "      <td>0.042264</td>\n",
       "    </tr>\n",
       "    <tr>\n",
       "      <th>Bedroom2</th>\n",
       "      <td>0.813577</td>\n",
       "      <td>0.451911</td>\n",
       "      <td>0.227853</td>\n",
       "      <td>0.042358</td>\n",
       "      <td>1.000000</td>\n",
       "      <td>0.595986</td>\n",
       "      <td>0.389490</td>\n",
       "      <td>0.023325</td>\n",
       "      <td>0.109601</td>\n",
       "      <td>-0.026223</td>\n",
       "      <td>0.002734</td>\n",
       "      <td>0.110401</td>\n",
       "      <td>-0.093214</td>\n",
       "    </tr>\n",
       "    <tr>\n",
       "      <th>Bathroom</th>\n",
       "      <td>0.530170</td>\n",
       "      <td>0.437245</td>\n",
       "      <td>0.095149</td>\n",
       "      <td>0.090628</td>\n",
       "      <td>0.595986</td>\n",
       "      <td>1.000000</td>\n",
       "      <td>0.320351</td>\n",
       "      <td>0.032432</td>\n",
       "      <td>0.087146</td>\n",
       "      <td>0.015926</td>\n",
       "      <td>-0.088038</td>\n",
       "      <td>0.120101</td>\n",
       "      <td>-0.048417</td>\n",
       "    </tr>\n",
       "    <tr>\n",
       "      <th>Car</th>\n",
       "      <td>0.360047</td>\n",
       "      <td>0.235596</td>\n",
       "      <td>0.219264</td>\n",
       "      <td>0.030805</td>\n",
       "      <td>0.389490</td>\n",
       "      <td>0.320351</td>\n",
       "      <td>1.000000</td>\n",
       "      <td>0.025466</td>\n",
       "      <td>0.088138</td>\n",
       "      <td>-0.020740</td>\n",
       "      <td>-0.006575</td>\n",
       "      <td>0.070005</td>\n",
       "      <td>-0.028986</td>\n",
       "    </tr>\n",
       "    <tr>\n",
       "      <th>Landsize</th>\n",
       "      <td>0.031944</td>\n",
       "      <td>0.035592</td>\n",
       "      <td>0.049019</td>\n",
       "      <td>0.030740</td>\n",
       "      <td>0.023325</td>\n",
       "      <td>0.032432</td>\n",
       "      <td>0.025466</td>\n",
       "      <td>1.000000</td>\n",
       "      <td>0.156822</td>\n",
       "      <td>-0.312512</td>\n",
       "      <td>0.003171</td>\n",
       "      <td>0.017595</td>\n",
       "      <td>0.013741</td>\n",
       "    </tr>\n",
       "    <tr>\n",
       "      <th>BuildingArea</th>\n",
       "      <td>0.094990</td>\n",
       "      <td>0.067846</td>\n",
       "      <td>0.086541</td>\n",
       "      <td>0.057683</td>\n",
       "      <td>0.109601</td>\n",
       "      <td>0.087146</td>\n",
       "      <td>0.088138</td>\n",
       "      <td>0.156822</td>\n",
       "      <td>1.000000</td>\n",
       "      <td>-0.368791</td>\n",
       "      <td>0.021224</td>\n",
       "      <td>-0.004944</td>\n",
       "      <td>-0.014161</td>\n",
       "    </tr>\n",
       "    <tr>\n",
       "      <th>YearBuilt</th>\n",
       "      <td>-0.025048</td>\n",
       "      <td>0.049644</td>\n",
       "      <td>-0.191171</td>\n",
       "      <td>-0.094906</td>\n",
       "      <td>-0.026223</td>\n",
       "      <td>0.015926</td>\n",
       "      <td>-0.020740</td>\n",
       "      <td>-0.312512</td>\n",
       "      <td>-0.368791</td>\n",
       "      <td>1.000000</td>\n",
       "      <td>0.000383</td>\n",
       "      <td>-0.011983</td>\n",
       "      <td>-0.029317</td>\n",
       "    </tr>\n",
       "    <tr>\n",
       "      <th>Lattitude</th>\n",
       "      <td>0.011168</td>\n",
       "      <td>-0.174797</td>\n",
       "      <td>-0.074757</td>\n",
       "      <td>-0.373963</td>\n",
       "      <td>0.002734</td>\n",
       "      <td>-0.088038</td>\n",
       "      <td>-0.006575</td>\n",
       "      <td>0.003171</td>\n",
       "      <td>0.021224</td>\n",
       "      <td>0.000383</td>\n",
       "      <td>1.000000</td>\n",
       "      <td>-0.350566</td>\n",
       "      <td>0.037315</td>\n",
       "    </tr>\n",
       "    <tr>\n",
       "      <th>Longtitude</th>\n",
       "      <td>0.087867</td>\n",
       "      <td>0.171292</td>\n",
       "      <td>0.168699</td>\n",
       "      <td>0.355115</td>\n",
       "      <td>0.110401</td>\n",
       "      <td>0.120101</td>\n",
       "      <td>0.070005</td>\n",
       "      <td>0.017595</td>\n",
       "      <td>-0.004944</td>\n",
       "      <td>-0.011983</td>\n",
       "      <td>-0.350566</td>\n",
       "      <td>1.000000</td>\n",
       "      <td>0.076654</td>\n",
       "    </tr>\n",
       "    <tr>\n",
       "      <th>Propertycount</th>\n",
       "      <td>-0.092812</td>\n",
       "      <td>-0.048676</td>\n",
       "      <td>-0.075737</td>\n",
       "      <td>0.042264</td>\n",
       "      <td>-0.093214</td>\n",
       "      <td>-0.048417</td>\n",
       "      <td>-0.028986</td>\n",
       "      <td>0.013741</td>\n",
       "      <td>-0.014161</td>\n",
       "      <td>-0.029317</td>\n",
       "      <td>0.037315</td>\n",
       "      <td>0.076654</td>\n",
       "      <td>1.000000</td>\n",
       "    </tr>\n",
       "  </tbody>\n",
       "</table>\n",
       "</div>"
      ],
      "text/plain": [
       "                  Rooms     Price  Distance  Postcode  Bedroom2  Bathroom  \\\n",
       "Rooms          1.000000  0.509418  0.269207  0.061950  0.813577  0.530170   \n",
       "Price          0.509418  1.000000 -0.148968  0.122798  0.451911  0.437245   \n",
       "Distance       0.269207 -0.148968  1.000000  0.405859  0.227853  0.095149   \n",
       "Postcode       0.061950  0.122798  0.405859  1.000000  0.042358  0.090628   \n",
       "Bedroom2       0.813577  0.451911  0.227853  0.042358  1.000000  0.595986   \n",
       "Bathroom       0.530170  0.437245  0.095149  0.090628  0.595986  1.000000   \n",
       "Car            0.360047  0.235596  0.219264  0.030805  0.389490  0.320351   \n",
       "Landsize       0.031944  0.035592  0.049019  0.030740  0.023325  0.032432   \n",
       "BuildingArea   0.094990  0.067846  0.086541  0.057683  0.109601  0.087146   \n",
       "YearBuilt     -0.025048  0.049644 -0.191171 -0.094906 -0.026223  0.015926   \n",
       "Lattitude      0.011168 -0.174797 -0.074757 -0.373963  0.002734 -0.088038   \n",
       "Longtitude     0.087867  0.171292  0.168699  0.355115  0.110401  0.120101   \n",
       "Propertycount -0.092812 -0.048676 -0.075737  0.042264 -0.093214 -0.048417   \n",
       "\n",
       "                    Car  Landsize  BuildingArea  YearBuilt  Lattitude  \\\n",
       "Rooms          0.360047  0.031944      0.094990  -0.025048   0.011168   \n",
       "Price          0.235596  0.035592      0.067846   0.049644  -0.174797   \n",
       "Distance       0.219264  0.049019      0.086541  -0.191171  -0.074757   \n",
       "Postcode       0.030805  0.030740      0.057683  -0.094906  -0.373963   \n",
       "Bedroom2       0.389490  0.023325      0.109601  -0.026223   0.002734   \n",
       "Bathroom       0.320351  0.032432      0.087146   0.015926  -0.088038   \n",
       "Car            1.000000  0.025466      0.088138  -0.020740  -0.006575   \n",
       "Landsize       0.025466  1.000000      0.156822  -0.312512   0.003171   \n",
       "BuildingArea   0.088138  0.156822      1.000000  -0.368791   0.021224   \n",
       "YearBuilt     -0.020740 -0.312512     -0.368791   1.000000   0.000383   \n",
       "Lattitude     -0.006575  0.003171      0.021224   0.000383   1.000000   \n",
       "Longtitude     0.070005  0.017595     -0.004944  -0.011983  -0.350566   \n",
       "Propertycount -0.028986  0.013741     -0.014161  -0.029317   0.037315   \n",
       "\n",
       "               Longtitude  Propertycount  \n",
       "Rooms            0.087867      -0.092812  \n",
       "Price            0.171292      -0.048676  \n",
       "Distance         0.168699      -0.075737  \n",
       "Postcode         0.355115       0.042264  \n",
       "Bedroom2         0.110401      -0.093214  \n",
       "Bathroom         0.120101      -0.048417  \n",
       "Car              0.070005      -0.028986  \n",
       "Landsize         0.017595       0.013741  \n",
       "BuildingArea    -0.004944      -0.014161  \n",
       "YearBuilt       -0.011983      -0.029317  \n",
       "Lattitude       -0.350566       0.037315  \n",
       "Longtitude       1.000000       0.076654  \n",
       "Propertycount    0.076654       1.000000  "
      ]
     },
     "execution_count": 12,
     "metadata": {},
     "output_type": "execute_result"
    }
   ],
   "source": [
    "df.corr()"
   ]
  },
  {
   "cell_type": "code",
   "execution_count": 13,
   "metadata": {},
   "outputs": [
    {
     "data": {
      "text/plain": [
       "array(['h', 'u', 't'], dtype=object)"
      ]
     },
     "execution_count": 13,
     "metadata": {},
     "output_type": "execute_result"
    }
   ],
   "source": [
    "df['Type'].unique()"
   ]
  },
  {
   "cell_type": "code",
   "execution_count": 14,
   "metadata": {},
   "outputs": [],
   "source": [
    "df1=df.drop(['BuildingArea','YearBuilt'],axis=1)"
   ]
  },
  {
   "cell_type": "code",
   "execution_count": 15,
   "metadata": {},
   "outputs": [],
   "source": [
    "df1=df1.dropna()"
   ]
  },
  {
   "cell_type": "code",
   "execution_count": 16,
   "metadata": {},
   "outputs": [],
   "source": [
    "dummies=pd.get_dummies(df1[['Type','Method']])"
   ]
  },
  {
   "cell_type": "code",
   "execution_count": 17,
   "metadata": {},
   "outputs": [],
   "source": [
    "X=df1.drop(['Suburb','Type','Method','Date','SellerG','Address','Regionname','CouncilArea'],axis=1)"
   ]
  },
  {
   "cell_type": "code",
   "execution_count": 18,
   "metadata": {},
   "outputs": [],
   "source": [
    "X=X.join(dummies)"
   ]
  },
  {
   "cell_type": "code",
   "execution_count": 19,
   "metadata": {},
   "outputs": [
    {
     "data": {
      "text/plain": [
       "Index(['Rooms', 'Price', 'Distance', 'Postcode', 'Bedroom2', 'Bathroom', 'Car',\n",
       "       'Landsize', 'Lattitude', 'Longtitude', 'Propertycount', 'Type_h',\n",
       "       'Type_t', 'Type_u', 'Method_PI', 'Method_S', 'Method_SA', 'Method_SP',\n",
       "       'Method_VB'],\n",
       "      dtype='object')"
      ]
     },
     "execution_count": 19,
     "metadata": {},
     "output_type": "execute_result"
    }
   ],
   "source": [
    "X.columns"
   ]
  },
  {
   "cell_type": "code",
   "execution_count": 20,
   "metadata": {},
   "outputs": [],
   "source": [
    "y=X['Price']"
   ]
  },
  {
   "cell_type": "code",
   "execution_count": 21,
   "metadata": {},
   "outputs": [
    {
     "data": {
      "text/plain": [
       "Index(['Rooms', 'Price', 'Distance', 'Postcode', 'Bedroom2', 'Bathroom', 'Car',\n",
       "       'Landsize', 'Lattitude', 'Longtitude', 'Propertycount', 'Type_h',\n",
       "       'Type_t', 'Type_u', 'Method_PI', 'Method_S', 'Method_SA', 'Method_SP',\n",
       "       'Method_VB'],\n",
       "      dtype='object')"
      ]
     },
     "execution_count": 21,
     "metadata": {},
     "output_type": "execute_result"
    }
   ],
   "source": [
    "X.columns"
   ]
  },
  {
   "cell_type": "code",
   "execution_count": 22,
   "metadata": {},
   "outputs": [],
   "source": [
    "X=X.drop('Price',axis=1)"
   ]
  },
  {
   "cell_type": "code",
   "execution_count": 23,
   "metadata": {},
   "outputs": [
    {
     "data": {
      "text/plain": [
       "((11646, 18), (11646,))"
      ]
     },
     "execution_count": 23,
     "metadata": {},
     "output_type": "execute_result"
    }
   ],
   "source": [
    "X.shape,y.shape"
   ]
  },
  {
   "cell_type": "code",
   "execution_count": 24,
   "metadata": {},
   "outputs": [],
   "source": [
    "from sklearn.model_selection import train_test_split\n",
    "from sklearn.metrics import accuracy_score"
   ]
  },
  {
   "cell_type": "code",
   "execution_count": 25,
   "metadata": {},
   "outputs": [],
   "source": [
    "X_train,X_test,y_train,y_test=train_test_split(X,y,test_size=0.4)"
   ]
  },
  {
   "cell_type": "markdown",
   "metadata": {},
   "source": [
    "## Linear Regression "
   ]
  },
  {
   "cell_type": "code",
   "execution_count": 26,
   "metadata": {},
   "outputs": [
    {
     "data": {
      "text/plain": [
       "LinearRegression(copy_X=True, fit_intercept=True, n_jobs=None, normalize=False)"
      ]
     },
     "execution_count": 26,
     "metadata": {},
     "output_type": "execute_result"
    }
   ],
   "source": [
    "lm=LinearRegression()\n",
    "lm.fit(X_train,y_train)"
   ]
  },
  {
   "cell_type": "code",
   "execution_count": 27,
   "metadata": {},
   "outputs": [],
   "source": [
    "pred=lm.predict(X_test)"
   ]
  },
  {
   "cell_type": "code",
   "execution_count": 28,
   "metadata": {},
   "outputs": [],
   "source": [
    "from sklearn import metrics\n"
   ]
  },
  {
   "cell_type": "code",
   "execution_count": 29,
   "metadata": {},
   "outputs": [
    {
     "name": "stdout",
     "output_type": "stream",
     "text": [
      "MAE: 288140.2446196074\n",
      "MSE: 186293887924.08356\n",
      "RMSE: 431617.75672935834\n"
     ]
    }
   ],
   "source": [
    "print(\"MAE:\", metrics.mean_absolute_error(y_test, pred))\n",
    "print('MSE:', metrics.mean_squared_error(y_test, pred))\n",
    "print('RMSE:', np.sqrt(metrics.mean_squared_error(y_test, pred)))"
   ]
  },
  {
   "cell_type": "code",
   "execution_count": 30,
   "metadata": {},
   "outputs": [
    {
     "data": {
      "text/plain": [
       "0.5531679659084121"
      ]
     },
     "execution_count": 30,
     "metadata": {},
     "output_type": "execute_result"
    }
   ],
   "source": [
    "lm.score(X_train,y_train)"
   ]
  },
  {
   "cell_type": "code",
   "execution_count": 31,
   "metadata": {},
   "outputs": [
    {
     "data": {
      "text/plain": [
       "array([[<matplotlib.axes._subplots.AxesSubplot object at 0x12852ad68>,\n",
       "        <matplotlib.axes._subplots.AxesSubplot object at 0x12876f3c8>,\n",
       "        <matplotlib.axes._subplots.AxesSubplot object at 0x1287a0518>,\n",
       "        <matplotlib.axes._subplots.AxesSubplot object at 0x1287fc5c0>],\n",
       "       [<matplotlib.axes._subplots.AxesSubplot object at 0x12936d710>,\n",
       "        <matplotlib.axes._subplots.AxesSubplot object at 0x129ab2860>,\n",
       "        <matplotlib.axes._subplots.AxesSubplot object at 0x129ae5da0>,\n",
       "        <matplotlib.axes._subplots.AxesSubplot object at 0x129b233c8>],\n",
       "       [<matplotlib.axes._subplots.AxesSubplot object at 0x129b23400>,\n",
       "        <matplotlib.axes._subplots.AxesSubplot object at 0x129b84ef0>,\n",
       "        <matplotlib.axes._subplots.AxesSubplot object at 0x129bc34e0>,\n",
       "        <matplotlib.axes._subplots.AxesSubplot object at 0x129bf3a90>],\n",
       "       [<matplotlib.axes._subplots.AxesSubplot object at 0x129c2f080>,\n",
       "        <matplotlib.axes._subplots.AxesSubplot object at 0x129c61630>,\n",
       "        <matplotlib.axes._subplots.AxesSubplot object at 0x129c90be0>,\n",
       "        <matplotlib.axes._subplots.AxesSubplot object at 0x129ccd1d0>],\n",
       "       [<matplotlib.axes._subplots.AxesSubplot object at 0x129cfe780>,\n",
       "        <matplotlib.axes._subplots.AxesSubplot object at 0x129d31cf8>,\n",
       "        <matplotlib.axes._subplots.AxesSubplot object at 0x129d6d2e8>,\n",
       "        <matplotlib.axes._subplots.AxesSubplot object at 0x129d9c898>]],\n",
       "      dtype=object)"
      ]
     },
     "execution_count": 31,
     "metadata": {},
     "output_type": "execute_result"
    },
    {
     "data": {
      "image/png": "[encoded data removed]",
      "text/plain": [
       "<Figure size 1296x864 with 20 Axes>"
      ]
     },
     "metadata": {
      "needs_background": "light"
     },
     "output_type": "display_data"
    }
   ],
   "source": [
    "plt.rcParams['figure.figsize']=(18,12)\n",
    "X_train.hist()"
   ]
  },
  {
   "cell_type": "code",
   "execution_count": 32,
   "metadata": {},
   "outputs": [
    {
     "data": {
      "text/plain": [
       "array([ 2.44667389e+05, -5.57550503e+04,  1.61823828e+03, -2.40782176e+04,\n",
       "        1.90425530e+05,  5.83749964e+04,  4.37367239e+00, -1.19519559e+06,\n",
       "        5.37378027e+05, -2.00573120e+00,  2.54048034e+05, -5.36478781e+04,\n",
       "       -2.00400156e+05, -4.11926943e+04,  3.26750287e+04,  6.71432192e+04,\n",
       "       -4.79701328e+04, -1.06554207e+04])"
      ]
     },
     "execution_count": 32,
     "metadata": {},
     "output_type": "execute_result"
    }
   ],
   "source": [
    "lm.coef_"
   ]
  },
  {
   "cell_type": "code",
   "execution_count": null,
   "metadata": {},
   "outputs": [],
   "source": []
  },
  {
   "cell_type": "code",
   "execution_count": 33,
   "metadata": {},
   "outputs": [
    {
     "data": {
      "text/plain": [
       "LinearRegression(copy_X=True, fit_intercept=True, n_jobs=None, normalize=True)"
      ]
     },
     "execution_count": 33,
     "metadata": {},
     "output_type": "execute_result"
    }
   ],
   "source": [
    "#Normalising the data \n",
    "lm_normal=LinearRegression(normalize=True)\n",
    "lm_normal.fit(X_train,y_train)"
   ]
  },
  {
   "cell_type": "code",
   "execution_count": 34,
   "metadata": {},
   "outputs": [
    {
     "data": {
      "text/plain": [
       "0.553129696476478"
      ]
     },
     "execution_count": 34,
     "metadata": {},
     "output_type": "execute_result"
    }
   ],
   "source": [
    "lm_normal.score(X_train,y_train)"
   ]
  },
  {
   "cell_type": "markdown",
   "metadata": {},
   "source": [
    "##    ## Random Forest Regressor"
   ]
  },
  {
   "cell_type": "code",
   "execution_count": 35,
   "metadata": {},
   "outputs": [
    {
     "data": {
      "text/plain": [
       "RandomForestRegressor(bootstrap=True, criterion='mse', max_depth=None,\n",
       "                      max_features='auto', max_leaf_nodes=None,\n",
       "                      min_impurity_decrease=0.0, min_impurity_split=None,\n",
       "                      min_samples_leaf=1, min_samples_split=2,\n",
       "                      min_weight_fraction_leaf=0.0, n_estimators=50,\n",
       "                      n_jobs=None, oob_score=False, random_state=None,\n",
       "                      verbose=0, warm_start=False)"
      ]
     },
     "execution_count": 35,
     "metadata": {},
     "output_type": "execute_result"
    }
   ],
   "source": [
    "from sklearn.ensemble import RandomForestRegressor\n",
    "rf=RandomForestRegressor(n_estimators=50)\n",
    "rf.fit(X_train,y_train)"
   ]
  },
  {
   "cell_type": "code",
   "execution_count": 36,
   "metadata": {},
   "outputs": [],
   "source": [
    "rf_pred=rf.predict(X_test)"
   ]
  },
  {
   "cell_type": "code",
   "execution_count": 37,
   "metadata": {},
   "outputs": [
    {
     "data": {
      "text/plain": [
       "0.9665667154768547"
      ]
     },
     "execution_count": 37,
     "metadata": {},
     "output_type": "execute_result"
    }
   ],
   "source": [
    "rf.score(X_train,y_train)"
   ]
  },
  {
   "cell_type": "code",
   "execution_count": 38,
   "metadata": {},
   "outputs": [
    {
     "data": {
      "text/html": [
       "<div>\n",
       "<style scoped>\n",
       "    .dataframe tbody tr th:only-of-type {\n",
       "        vertical-align: middle;\n",
       "    }\n",
       "\n",
       "    .dataframe tbody tr th {\n",
       "        vertical-align: top;\n",
       "    }\n",
       "\n",
       "    .dataframe thead th {\n",
       "        text-align: right;\n",
       "    }\n",
       "</style>\n",
       "<table border=\"1\" class=\"dataframe\">\n",
       "  <thead>\n",
       "    <tr style=\"text-align: right;\">\n",
       "      <th></th>\n",
       "      <th>Actual</th>\n",
       "      <th>Predicted</th>\n",
       "    </tr>\n",
       "  </thead>\n",
       "  <tbody>\n",
       "    <tr>\n",
       "      <th>4496</th>\n",
       "      <td>757000.0</td>\n",
       "      <td>6.967100e+05</td>\n",
       "    </tr>\n",
       "    <tr>\n",
       "      <th>14742</th>\n",
       "      <td>1593000.0</td>\n",
       "      <td>2.038383e+06</td>\n",
       "    </tr>\n",
       "    <tr>\n",
       "      <th>18219</th>\n",
       "      <td>900000.0</td>\n",
       "      <td>1.024850e+06</td>\n",
       "    </tr>\n",
       "    <tr>\n",
       "      <th>2233</th>\n",
       "      <td>620000.0</td>\n",
       "      <td>6.397700e+05</td>\n",
       "    </tr>\n",
       "    <tr>\n",
       "      <th>17767</th>\n",
       "      <td>582000.0</td>\n",
       "      <td>6.295900e+05</td>\n",
       "    </tr>\n",
       "  </tbody>\n",
       "</table>\n",
       "</div>"
      ],
      "text/plain": [
       "          Actual     Predicted\n",
       "4496    757000.0  6.967100e+05\n",
       "14742  1593000.0  2.038383e+06\n",
       "18219   900000.0  1.024850e+06\n",
       "2233    620000.0  6.397700e+05\n",
       "17767   582000.0  6.295900e+05"
      ]
     },
     "execution_count": 38,
     "metadata": {},
     "output_type": "execute_result"
    }
   ],
   "source": [
    "accuracy=pd.DataFrame({'Actual':y_test,'Predicted':rf_pred})\n",
    "accuracy.head()"
   ]
  },
  {
   "cell_type": "code",
   "execution_count": 39,
   "metadata": {},
   "outputs": [
    {
     "name": "stdout",
     "output_type": "stream",
     "text": [
      "MAE: 188908.42626519076\n",
      "MSE: 104384802603.98718\n",
      "RMSE: 323086.37019222457\n"
     ]
    }
   ],
   "source": [
    "print('MAE:',metrics.mean_absolute_error(rf_pred,y_test))\n",
    "print('MSE:',metrics.mean_squared_error(rf_pred,y_test))\n",
    "print('RMSE:',np.sqrt(metrics.mean_squared_error(rf_pred,y_test)))"
   ]
  },
  {
   "cell_type": "code",
   "execution_count": 40,
   "metadata": {},
   "outputs": [
    {
     "data": {
      "text/plain": [
       "0.7446738813256456"
      ]
     },
     "execution_count": 40,
     "metadata": {},
     "output_type": "execute_result"
    }
   ],
   "source": [
    "rf.score(X_test,y_test)"
   ]
  },
  {
   "cell_type": "code",
   "execution_count": 41,
   "metadata": {},
   "outputs": [
    {
     "name": "stdout",
     "output_type": "stream",
     "text": [
      "Fitting 3 folds for each of 48 candidates, totalling 144 fits\n"
     ]
    },
    {
     "name": "stderr",
     "output_type": "stream",
     "text": [
      "[Parallel(n_jobs=-1)]: Using backend LokyBackend with 4 concurrent workers.\n",
      "[Parallel(n_jobs=-1)]: Done  42 tasks      | elapsed:  1.2min\n",
      "[Parallel(n_jobs=-1)]: Done 144 out of 144 | elapsed:  4.4min finished\n"
     ]
    },
    {
     "data": {
      "text/plain": [
       "GridSearchCV(cv='warn', error_score='raise-deprecating',\n",
       "             estimator=RandomForestRegressor(bootstrap=True, criterion='mse',\n",
       "                                             max_depth=None,\n",
       "                                             max_features='auto',\n",
       "                                             max_leaf_nodes=None,\n",
       "                                             min_impurity_decrease=0.0,\n",
       "                                             min_impurity_split=None,\n",
       "                                             min_samples_leaf=1,\n",
       "                                             min_samples_split=2,\n",
       "                                             min_weight_fraction_leaf=0.0,\n",
       "                                             n_estimators='warn', n_jobs=None,\n",
       "                                             oob_score=False, random_state=None,\n",
       "                                             verbose=0, warm_start=False),\n",
       "             iid='warn', n_jobs=-1,\n",
       "             param_grid={'min_samples_leaf': array([2, 3, 4, 5, 6, 7, 8, 9]),\n",
       "                         'n_estimators': [10, 50, 100, 200, 500, 1000]},\n",
       "             pre_dispatch='2*n_jobs', refit=True, return_train_score=False,\n",
       "             scoring=None, verbose=1)"
      ]
     },
     "execution_count": 41,
     "metadata": {},
     "output_type": "execute_result"
    }
   ],
   "source": [
    "#Hyperparameter tuning\n",
    "\n",
    "from sklearn.model_selection import GridSearchCV\n",
    "\n",
    "params={'n_estimators':[10,50,100,200,500,1000],'min_samples_leaf':np.arange(2,10)}\n",
    "best_rf=GridSearchCV(RandomForestRegressor(),param_grid=params,n_jobs=-1,verbose=1)\n",
    "best_rf.fit(X_train,y_train)"
   ]
  },
  {
   "cell_type": "code",
   "execution_count": 42,
   "metadata": {},
   "outputs": [
    {
     "data": {
      "text/plain": [
       "dict_keys(['bootstrap', 'criterion', 'max_depth', 'max_features', 'max_leaf_nodes', 'min_impurity_decrease', 'min_impurity_split', 'min_samples_leaf', 'min_samples_split', 'min_weight_fraction_leaf', 'n_estimators', 'n_jobs', 'oob_score', 'random_state', 'verbose', 'warm_start'])"
      ]
     },
     "execution_count": 42,
     "metadata": {},
     "output_type": "execute_result"
    }
   ],
   "source": [
    "rf.get_params().keys()"
   ]
  },
  {
   "cell_type": "code",
   "execution_count": 43,
   "metadata": {},
   "outputs": [
    {
     "data": {
      "text/plain": [
       "({'min_samples_leaf': 2, 'n_estimators': 500}, 0.752586924638832)"
      ]
     },
     "execution_count": 43,
     "metadata": {},
     "output_type": "execute_result"
    }
   ],
   "source": [
    "best_rf.best_params_,best_rf.best_score_"
   ]
  },
  {
   "cell_type": "code",
   "execution_count": null,
   "metadata": {},
   "outputs": [],
   "source": []
  },
  {
   "cell_type": "code",
   "execution_count": null,
   "metadata": {},
   "outputs": [],
   "source": []
  },
  {
   "cell_type": "code",
   "execution_count": null,
   "metadata": {},
   "outputs": [],
   "source": []
  },
  {
   "cell_type": "code",
   "execution_count": null,
   "metadata": {},
   "outputs": [],
   "source": []
  },
  {
   "cell_type": "code",
   "execution_count": null,
   "metadata": {},
   "outputs": [],
   "source": []
  }
 ],
 "metadata": {
  "kernelspec": {
   "display_name": "Python 3",
   "language": "python",
   "name": "python3"
  },
  "language_info": {
   "codemirror_mode": {
    "name": "ipython",
    "version": 3
   },
   "file_extension": ".py",
   "mimetype": "text/x-python",
   "name": "python",
   "nbconvert_exporter": "python",
   "pygments_lexer": "ipython3",
   "version": "3.7.3"
  }
 },
 "nbformat": 4,
 "nbformat_minor": 2
}
