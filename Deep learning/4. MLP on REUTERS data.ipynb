{
 "cells": [
  {
   "cell_type": "code",
   "execution_count": 1,
   "metadata": {},
   "outputs": [],
   "source": [
    "import pandas as pd\n",
    "import numpy as np\n",
    "import matplotlib.pyplot as plt\n",
    "import seaborn as sns\n",
    "\n",
    "import tensorflow as tf\n"
   ]
  },
  {
   "cell_type": "code",
   "execution_count": 2,
   "metadata": {},
   "outputs": [],
   "source": [
    "from tensorflow import keras\n"
   ]
  },
  {
   "cell_type": "code",
   "execution_count": 3,
   "metadata": {},
   "outputs": [],
   "source": [
    "from tensorflow.keras.datasets import reuters\n"
   ]
  },
  {
   "cell_type": "code",
   "execution_count": 4,
   "metadata": {},
   "outputs": [],
   "source": [
    "(x_train,y_train),(x_test,y_test)=reuters.load_data(num_words=10000)"
   ]
  },
  {
   "cell_type": "code",
   "execution_count": 5,
   "metadata": {},
   "outputs": [
    {
     "data": {
      "text/plain": [
       "((8982,), (8982,), (2246,))"
      ]
     },
     "execution_count": 5,
     "metadata": {},
     "output_type": "execute_result"
    }
   ],
   "source": [
    "x_train.shape,y_train.shape,x_test.shape"
   ]
  },
  {
   "cell_type": "code",
   "execution_count": 6,
   "metadata": {},
   "outputs": [
    {
     "name": "stdout",
     "output_type": "stream",
     "text": [
      "{0, 1, 2, 3, 4, 5, 6, 7, 8, 9, 10, 11, 12, 13, 14, 15, 16, 17, 18, 19, 20, 21, 22, 23, 24, 25, 26, 27, 28, 29, 30, 31, 32, 33, 34, 35, 36, 37, 38, 39, 40, 41, 42, 43, 44, 45}\n"
     ]
    }
   ],
   "source": [
    "print(set(y_train))"
   ]
  },
  {
   "cell_type": "code",
   "execution_count": 7,
   "metadata": {},
   "outputs": [],
   "source": [
    "#decoding\n",
    "word_index=reuters.get_word_index()\n",
    "reversed_word_index=dict([(value,key) for (key,value) in word_index.items()])\n",
    "decoded_newswire=' '.join([reversed_word_index.get(i-3,'?') for i in x_train[0]])"
   ]
  },
  {
   "cell_type": "code",
   "execution_count": 8,
   "metadata": {},
   "outputs": [
    {
     "data": {
      "text/plain": [
       "'? ? ? said as a result of its december acquisition of space co it expects earnings per share in 1987 of 1 15 to 1 30 dlrs per share up from 70 cts in 1986 the company said pretax net should rise to nine to 10 mln dlrs from six mln dlrs in 1986 and rental operation revenues to 19 to 22 mln dlrs from 12 5 mln dlrs it said cash flow per share this year should be 2 50 to three dlrs reuter 3'"
      ]
     },
     "execution_count": 8,
     "metadata": {},
     "output_type": "execute_result"
    }
   ],
   "source": [
    "decoded_newswire"
   ]
  },
  {
   "cell_type": "code",
   "execution_count": 9,
   "metadata": {},
   "outputs": [],
   "source": [
    "def vectorize_sequences(sequences,dimension=10000):\n",
    "    results=np.zeros((len(sequences),dimension))\n",
    "    for i,sequence in enumerate(sequences):\n",
    "        results[i,sequence]=1\n",
    "    return results\n",
    "    \n",
    "x_train=vectorize_sequences(x_train)\n",
    "x_test=vectorize_sequences(x_test)\n",
    "    "
   ]
  },
  {
   "cell_type": "code",
   "execution_count": 11,
   "metadata": {},
   "outputs": [],
   "source": [
    "#one-hot encoding the target variable\n",
    "def to_one_hot(labels,dimension=46):\n",
    "    results=np.zeros((len(labels),dimension))\n",
    "    for i,label in enumerate(labels):\n",
    "        results[i,label]=1\n",
    "    return results\n",
    "\n",
    "y_train=to_one_hot(y_train)\n",
    "y_test=to_one_hot(y_test)"
   ]
  },
  {
   "cell_type": "code",
   "execution_count": 12,
   "metadata": {},
   "outputs": [],
   "source": [
    "from tensorflow.keras.layers import Dense\n",
    "from tensorflow.keras.models import Sequential"
   ]
  },
  {
   "cell_type": "code",
   "execution_count": 13,
   "metadata": {},
   "outputs": [],
   "source": [
    "model=Sequential([\n",
    "    Dense(64,activation='relu',input_shape=(10000,)),\n",
    "    Dense(64,activation='relu'),\n",
    "    Dense(46,activation='softmax')\n",
    "])"
   ]
  },
  {
   "cell_type": "code",
   "execution_count": 14,
   "metadata": {},
   "outputs": [],
   "source": [
    "model.compile(optimizer='rmsprop',loss='categorical_crossentropy',metrics=['accuracy'])"
   ]
  },
  {
   "cell_type": "code",
   "execution_count": 15,
   "metadata": {},
   "outputs": [],
   "source": [
    "x_val=x_train[:1000]\n",
    "partial_x_train=x_train[1000:]\n",
    "\n",
    "y_val=y_train[:1000]\n",
    "partial_y_train=y_train[1000:]"
   ]
  },
  {
   "cell_type": "code",
   "execution_count": 16,
   "metadata": {},
   "outputs": [
    {
     "name": "stdout",
     "output_type": "stream",
     "text": [
      "Train on 7982 samples, validate on 1000 samples\n",
      "Epoch 1/20\n",
      "7982/7982 [==============================] - 1s 158us/sample - loss: 2.5588 - accuracy: 0.5340 - val_loss: 1.7254 - val_accuracy: 0.6450\n",
      "Epoch 2/20\n",
      "7982/7982 [==============================] - 1s 77us/sample - loss: 1.4023 - accuracy: 0.7057 - val_loss: 1.3232 - val_accuracy: 0.7140\n",
      "Epoch 3/20\n",
      "7982/7982 [==============================] - 1s 82us/sample - loss: 1.0524 - accuracy: 0.7722 - val_loss: 1.1727 - val_accuracy: 0.7530\n",
      "Epoch 4/20\n",
      "7982/7982 [==============================] - 1s 80us/sample - loss: 0.8294 - accuracy: 0.8245 - val_loss: 1.0539 - val_accuracy: 0.7840\n",
      "Epoch 5/20\n",
      "7982/7982 [==============================] - 1s 79us/sample - loss: 0.6587 - accuracy: 0.8678 - val_loss: 0.9677 - val_accuracy: 0.8040\n",
      "Epoch 6/20\n",
      "7982/7982 [==============================] - 1s 72us/sample - loss: 0.5256 - accuracy: 0.8951 - val_loss: 0.9391 - val_accuracy: 0.8070\n",
      "Epoch 7/20\n",
      "7982/7982 [==============================] - 1s 72us/sample - loss: 0.4195 - accuracy: 0.9132 - val_loss: 0.9256 - val_accuracy: 0.8080\n",
      "Epoch 8/20\n",
      "7982/7982 [==============================] - 1s 73us/sample - loss: 0.3437 - accuracy: 0.9266 - val_loss: 0.9149 - val_accuracy: 0.8110\n",
      "Epoch 9/20\n",
      "7982/7982 [==============================] - 1s 99us/sample - loss: 0.2818 - accuracy: 0.9390 - val_loss: 0.9274 - val_accuracy: 0.8070\n",
      "Epoch 10/20\n",
      "7982/7982 [==============================] - 1s 76us/sample - loss: 0.2382 - accuracy: 0.9448 - val_loss: 0.9226 - val_accuracy: 0.8130\n",
      "Epoch 11/20\n",
      "7982/7982 [==============================] - 1s 75us/sample - loss: 0.2087 - accuracy: 0.9501 - val_loss: 0.9335 - val_accuracy: 0.8100\n",
      "Epoch 12/20\n",
      "7982/7982 [==============================] - 1s 76us/sample - loss: 0.1820 - accuracy: 0.9519 - val_loss: 0.9290 - val_accuracy: 0.8130\n",
      "Epoch 13/20\n",
      "7982/7982 [==============================] - 1s 77us/sample - loss: 0.1656 - accuracy: 0.9528 - val_loss: 0.9554 - val_accuracy: 0.8120\n",
      "Epoch 14/20\n",
      "7982/7982 [==============================] - 1s 91us/sample - loss: 0.1512 - accuracy: 0.9541 - val_loss: 0.9616 - val_accuracy: 0.8110\n",
      "Epoch 15/20\n",
      "7982/7982 [==============================] - 1s 75us/sample - loss: 0.1425 - accuracy: 0.9554 - val_loss: 0.9945 - val_accuracy: 0.8060\n",
      "Epoch 16/20\n",
      "7982/7982 [==============================] - 1s 72us/sample - loss: 0.1329 - accuracy: 0.9557 - val_loss: 1.3281 - val_accuracy: 0.7530\n",
      "Epoch 17/20\n",
      "7982/7982 [==============================] - 1s 81us/sample - loss: 0.1264 - accuracy: 0.9553 - val_loss: 1.0009 - val_accuracy: 0.8100\n",
      "Epoch 18/20\n",
      "7982/7982 [==============================] - 1s 91us/sample - loss: 0.1185 - accuracy: 0.9564 - val_loss: 1.0536 - val_accuracy: 0.8030\n",
      "Epoch 19/20\n",
      "7982/7982 [==============================] - 1s 74us/sample - loss: 0.1166 - accuracy: 0.9573 - val_loss: 1.1531 - val_accuracy: 0.7930\n",
      "Epoch 20/20\n",
      "7982/7982 [==============================] - 1s 73us/sample - loss: 0.1133 - accuracy: 0.9590 - val_loss: 1.0993 - val_accuracy: 0.8060\n"
     ]
    }
   ],
   "source": [
    "history=model.fit(partial_x_train,partial_y_train,verbose=1,validation_data=(x_val,y_val),epochs=20,batch_size=512)"
   ]
  },
  {
   "cell_type": "code",
   "execution_count": 17,
   "metadata": {},
   "outputs": [
    {
     "name": "stdout",
     "output_type": "stream",
     "text": [
      "2246/2246 [==============================] - 0s 88us/sample - loss: 1.2755 - accuracy: 0.7778\n"
     ]
    }
   ],
   "source": [
    "results=model.evaluate(x_test,y_test)"
   ]
  },
  {
   "cell_type": "code",
   "execution_count": 18,
   "metadata": {},
   "outputs": [
    {
     "data": {
      "text/plain": [
       "[1.2755254849937487, 0.77782726]"
      ]
     },
     "execution_count": 18,
     "metadata": {},
     "output_type": "execute_result"
    }
   ],
   "source": [
    "results"
   ]
  },
  {
   "cell_type": "code",
   "execution_count": 20,
   "metadata": {},
   "outputs": [],
   "source": [
    "predictions=model.predict(x_test)"
   ]
  },
  {
   "cell_type": "code",
   "execution_count": 21,
   "metadata": {},
   "outputs": [
    {
     "data": {
      "text/plain": [
       "array([9.35803619e-05, 1.02052954e-05, 3.32397599e-06, 7.39234030e-01,\n",
       "       2.55276263e-01, 3.28820633e-08, 4.90487762e-10, 2.05996785e-05,\n",
       "       4.17499151e-03, 2.77876939e-06, 5.19975902e-06, 2.92186218e-04,\n",
       "       5.42589260e-06, 2.63834972e-05, 3.00458646e-06, 5.52791377e-08,\n",
       "       1.93130199e-05, 2.76881110e-07, 4.54373503e-06, 4.71554318e-04,\n",
       "       1.67805396e-04, 4.82695905e-05, 7.97655332e-07, 1.18796524e-05,\n",
       "       2.05913206e-08, 8.18563694e-06, 3.02806455e-08, 2.13493543e-08,\n",
       "       1.38367113e-07, 2.48522210e-05, 1.03324392e-05, 1.17431025e-08,\n",
       "       3.40633932e-07, 1.50367484e-07, 5.26577060e-06, 1.02937213e-06,\n",
       "       7.31871987e-05, 6.25034176e-08, 1.47139201e-06, 2.27454825e-06,\n",
       "       9.83826993e-08, 3.24275788e-08, 1.05064313e-08, 2.77654566e-09,\n",
       "       9.89815696e-09, 3.20484403e-08], dtype=float32)"
      ]
     },
     "execution_count": 21,
     "metadata": {},
     "output_type": "execute_result"
    }
   ],
   "source": [
    "predictions[0]"
   ]
  },
  {
   "cell_type": "code",
   "execution_count": 22,
   "metadata": {},
   "outputs": [
    {
     "data": {
      "text/plain": [
       "3"
      ]
     },
     "execution_count": 22,
     "metadata": {},
     "output_type": "execute_result"
    }
   ],
   "source": [
    "np.argmax(predictions[0])"
   ]
  },
  {
   "cell_type": "markdown",
   "metadata": {},
   "source": [
    "## Model 2"
   ]
  },
  {
   "cell_type": "code",
   "execution_count": 23,
   "metadata": {},
   "outputs": [],
   "source": [
    "model2=model=Sequential([\n",
    "    Dense(64,activation='relu',input_shape=(10000,)),\n",
    "    Dense(64,activation='relu'),\n",
    "    Dense(64,activation='relu'),\n",
    "    Dense(46,activation='softmax')\n",
    "])"
   ]
  },
  {
   "cell_type": "code",
   "execution_count": 27,
   "metadata": {},
   "outputs": [],
   "source": [
    "model2.compile(optimizer='rmsprop',loss='categorical_crossentropy',metrics=['accuracy'])"
   ]
  },
  {
   "cell_type": "code",
   "execution_count": 28,
   "metadata": {},
   "outputs": [
    {
     "name": "stdout",
     "output_type": "stream",
     "text": [
      "Train on 7982 samples, validate on 1000 samples\n",
      "Epoch 1/20\n",
      "7982/7982 [==============================] - 1s 142us/sample - loss: 0.1514 - accuracy: 0.9524 - val_loss: 1.1873 - val_accuracy: 0.7900\n",
      "Epoch 2/20\n",
      "7982/7982 [==============================] - 1s 70us/sample - loss: 0.1078 - accuracy: 0.9580 - val_loss: 1.3297 - val_accuracy: 0.7860\n",
      "Epoch 3/20\n",
      "7982/7982 [==============================] - 1s 71us/sample - loss: 0.1073 - accuracy: 0.9585 - val_loss: 1.2523 - val_accuracy: 0.7800\n",
      "Epoch 4/20\n",
      "7982/7982 [==============================] - 1s 70us/sample - loss: 0.1021 - accuracy: 0.9592 - val_loss: 1.2803 - val_accuracy: 0.7860\n",
      "Epoch 5/20\n",
      "7982/7982 [==============================] - 1s 70us/sample - loss: 0.1016 - accuracy: 0.9564 - val_loss: 1.2566 - val_accuracy: 0.7890\n",
      "Epoch 6/20\n",
      "7982/7982 [==============================] - 1s 72us/sample - loss: 0.1012 - accuracy: 0.9573 - val_loss: 1.2749 - val_accuracy: 0.7830\n",
      "Epoch 7/20\n",
      "7982/7982 [==============================] - 1s 72us/sample - loss: 0.0993 - accuracy: 0.9562 - val_loss: 1.2789 - val_accuracy: 0.7900\n",
      "Epoch 8/20\n",
      "7982/7982 [==============================] - 1s 81us/sample - loss: 0.0971 - accuracy: 0.9583 - val_loss: 1.2453 - val_accuracy: 0.7910\n",
      "Epoch 9/20\n",
      "7982/7982 [==============================] - 1s 73us/sample - loss: 0.0956 - accuracy: 0.9589 - val_loss: 1.3855 - val_accuracy: 0.7810\n",
      "Epoch 10/20\n",
      "7982/7982 [==============================] - 1s 105us/sample - loss: 0.0926 - accuracy: 0.9583 - val_loss: 1.2961 - val_accuracy: 0.7980\n",
      "Epoch 11/20\n",
      "7982/7982 [==============================] - 1s 76us/sample - loss: 0.0938 - accuracy: 0.9574 - val_loss: 1.3589 - val_accuracy: 0.7830\n",
      "Epoch 12/20\n",
      "7982/7982 [==============================] - 1s 75us/sample - loss: 0.0892 - accuracy: 0.9587 - val_loss: 1.3593 - val_accuracy: 0.7850\n",
      "Epoch 13/20\n",
      "7982/7982 [==============================] - 1s 71us/sample - loss: 0.0901 - accuracy: 0.9578 - val_loss: 1.3799 - val_accuracy: 0.7830\n",
      "Epoch 14/20\n",
      "7982/7982 [==============================] - 1s 72us/sample - loss: 0.0871 - accuracy: 0.9589 - val_loss: 1.3586 - val_accuracy: 0.7850\n",
      "Epoch 15/20\n",
      "7982/7982 [==============================] - 1s 73us/sample - loss: 0.0873 - accuracy: 0.9594 - val_loss: 1.3729 - val_accuracy: 0.7850\n",
      "Epoch 16/20\n",
      "7982/7982 [==============================] - 1s 72us/sample - loss: 0.0863 - accuracy: 0.9587 - val_loss: 1.3815 - val_accuracy: 0.7750\n",
      "Epoch 17/20\n",
      "7982/7982 [==============================] - 1s 86us/sample - loss: 0.0859 - accuracy: 0.9589 - val_loss: 1.4006 - val_accuracy: 0.7870\n",
      "Epoch 18/20\n",
      "7982/7982 [==============================] - 1s 92us/sample - loss: 0.0809 - accuracy: 0.9595 - val_loss: 1.4208 - val_accuracy: 0.7790\n",
      "Epoch 19/20\n",
      "7982/7982 [==============================] - 1s 75us/sample - loss: 0.0837 - accuracy: 0.9578 - val_loss: 1.4491 - val_accuracy: 0.7830\n",
      "Epoch 20/20\n",
      "7982/7982 [==============================] - 1s 71us/sample - loss: 0.0825 - accuracy: 0.9605 - val_loss: 1.4191 - val_accuracy: 0.7800\n"
     ]
    }
   ],
   "source": [
    "history=model2.fit(partial_x_train,partial_y_train,verbose=1,validation_data=(x_val,y_val),epochs=20,batch_size=512)"
   ]
  },
  {
   "cell_type": "markdown",
   "metadata": {},
   "source": [
    "## model 3"
   ]
  },
  {
   "cell_type": "code",
   "execution_count": 26,
   "metadata": {},
   "outputs": [],
   "source": [
    "model3=model=Sequential([\n",
    "    Dense(64,activation='relu',input_shape=(10000,)),\n",
    "    Dense(128,activation='relu'),\n",
    "    Dense(46,activation='softmax')\n",
    "])"
   ]
  },
  {
   "cell_type": "code",
   "execution_count": 29,
   "metadata": {},
   "outputs": [],
   "source": [
    "model3.compile(optimizer='rmsprop',loss='categorical_crossentropy',metrics=['accuracy'])"
   ]
  },
  {
   "cell_type": "code",
   "execution_count": 30,
   "metadata": {},
   "outputs": [
    {
     "name": "stdout",
     "output_type": "stream",
     "text": [
      "Train on 7982 samples, validate on 1000 samples\n",
      "Epoch 1/20\n",
      "7982/7982 [==============================] - 1s 135us/sample - loss: 2.3800 - accuracy: 0.5205 - val_loss: 1.5621 - val_accuracy: 0.6510\n",
      "Epoch 2/20\n",
      "7982/7982 [==============================] - 1s 77us/sample - loss: 1.3124 - accuracy: 0.7171 - val_loss: 1.2378 - val_accuracy: 0.7170\n",
      "Epoch 3/20\n",
      "7982/7982 [==============================] - 1s 75us/sample - loss: 0.9830 - accuracy: 0.7843 - val_loss: 1.0752 - val_accuracy: 0.7640\n",
      "Epoch 4/20\n",
      "7982/7982 [==============================] - 1s 72us/sample - loss: 0.7600 - accuracy: 0.8344 - val_loss: 1.0008 - val_accuracy: 0.7830\n",
      "Epoch 5/20\n",
      "7982/7982 [==============================] - 1s 77us/sample - loss: 0.5923 - accuracy: 0.8745 - val_loss: 0.9369 - val_accuracy: 0.8010\n",
      "Epoch 6/20\n",
      "7982/7982 [==============================] - 1s 80us/sample - loss: 0.4631 - accuracy: 0.9024 - val_loss: 0.8751 - val_accuracy: 0.8200\n",
      "Epoch 7/20\n",
      "7982/7982 [==============================] - 1s 77us/sample - loss: 0.3588 - accuracy: 0.9240 - val_loss: 0.9070 - val_accuracy: 0.8060\n",
      "Epoch 8/20\n",
      "7982/7982 [==============================] - 1s 74us/sample - loss: 0.2919 - accuracy: 0.9341 - val_loss: 0.8806 - val_accuracy: 0.8220\n",
      "Epoch 9/20\n",
      "7982/7982 [==============================] - 1s 88us/sample - loss: 0.2402 - accuracy: 0.9456 - val_loss: 0.8868 - val_accuracy: 0.8190\n",
      "Epoch 10/20\n",
      "7982/7982 [==============================] - 1s 98us/sample - loss: 0.2032 - accuracy: 0.9493 - val_loss: 0.9534 - val_accuracy: 0.8170\n",
      "Epoch 11/20\n",
      "7982/7982 [==============================] - 1s 88us/sample - loss: 0.1771 - accuracy: 0.9496 - val_loss: 0.9156 - val_accuracy: 0.8140\n",
      "Epoch 12/20\n",
      "7982/7982 [==============================] - 1s 85us/sample - loss: 0.1598 - accuracy: 0.9531 - val_loss: 0.9265 - val_accuracy: 0.8130\n",
      "Epoch 13/20\n",
      "7982/7982 [==============================] - 1s 74us/sample - loss: 0.1449 - accuracy: 0.9574 - val_loss: 0.9525 - val_accuracy: 0.8170\n",
      "Epoch 14/20\n",
      "7982/7982 [==============================] - 1s 73us/sample - loss: 0.1365 - accuracy: 0.9555 - val_loss: 1.0117 - val_accuracy: 0.8060\n",
      "Epoch 15/20\n",
      "7982/7982 [==============================] - 1s 74us/sample - loss: 0.1280 - accuracy: 0.9573 - val_loss: 1.0524 - val_accuracy: 0.8010\n",
      "Epoch 16/20\n",
      "7982/7982 [==============================] - 1s 77us/sample - loss: 0.1278 - accuracy: 0.9590 - val_loss: 0.9725 - val_accuracy: 0.8190\n",
      "Epoch 17/20\n",
      "7982/7982 [==============================] - 1s 77us/sample - loss: 0.1135 - accuracy: 0.9589 - val_loss: 1.0766 - val_accuracy: 0.7980\n",
      "Epoch 18/20\n",
      "7982/7982 [==============================] - 1s 82us/sample - loss: 0.1197 - accuracy: 0.9579 - val_loss: 1.0580 - val_accuracy: 0.8020\n",
      "Epoch 19/20\n",
      "7982/7982 [==============================] - 1s 93us/sample - loss: 0.1123 - accuracy: 0.9578 - val_loss: 1.0758 - val_accuracy: 0.8000\n",
      "Epoch 20/20\n",
      "7982/7982 [==============================] - 1s 76us/sample - loss: 0.1072 - accuracy: 0.9597 - val_loss: 1.0674 - val_accuracy: 0.8100\n"
     ]
    }
   ],
   "source": [
    "history=model3.fit(partial_x_train,partial_y_train,verbose=1,validation_data=(x_val,y_val),epochs=20,batch_size=512)"
   ]
  },
  {
   "cell_type": "markdown",
   "metadata": {},
   "source": [
    "## model4"
   ]
  },
  {
   "cell_type": "code",
   "execution_count": 33,
   "metadata": {},
   "outputs": [],
   "source": [
    "model3.compile(optimizer='adam',loss='categorical_crossentropy',metrics=['accuracy'])"
   ]
  },
  {
   "cell_type": "code",
   "execution_count": 34,
   "metadata": {},
   "outputs": [
    {
     "name": "stdout",
     "output_type": "stream",
     "text": [
      "Train on 7982 samples, validate on 1000 samples\n",
      "Epoch 1/20\n",
      "7982/7982 [==============================] - 1s 122us/sample - loss: 0.1132 - accuracy: 0.9599 - val_loss: 1.1215 - val_accuracy: 0.8050\n",
      "Epoch 2/20\n",
      "7982/7982 [==============================] - 1s 70us/sample - loss: 0.0943 - accuracy: 0.9619 - val_loss: 1.1484 - val_accuracy: 0.7960\n",
      "Epoch 3/20\n",
      "7982/7982 [==============================] - 1s 81us/sample - loss: 0.0889 - accuracy: 0.9635 - val_loss: 1.0644 - val_accuracy: 0.8130\n",
      "Epoch 4/20\n",
      "7982/7982 [==============================] - 1s 73us/sample - loss: 0.0792 - accuracy: 0.9625 - val_loss: 1.1991 - val_accuracy: 0.7960\n",
      "Epoch 5/20\n",
      "7982/7982 [==============================] - 1s 65us/sample - loss: 0.0815 - accuracy: 0.9633 - val_loss: 1.1624 - val_accuracy: 0.7940\n",
      "Epoch 6/20\n",
      "7982/7982 [==============================] - 1s 68us/sample - loss: 0.0784 - accuracy: 0.9614 - val_loss: 1.1681 - val_accuracy: 0.7970\n",
      "Epoch 7/20\n",
      "7982/7982 [==============================] - 1s 90us/sample - loss: 0.0802 - accuracy: 0.9628 - val_loss: 1.1386 - val_accuracy: 0.8030\n",
      "Epoch 8/20\n",
      "7982/7982 [==============================] - 1s 73us/sample - loss: 0.0756 - accuracy: 0.9637 - val_loss: 1.2135 - val_accuracy: 0.7970\n",
      "Epoch 9/20\n",
      "7982/7982 [==============================] - 1s 74us/sample - loss: 0.0789 - accuracy: 0.9623 - val_loss: 1.1919 - val_accuracy: 0.7940\n",
      "Epoch 10/20\n",
      "7982/7982 [==============================] - 1s 73us/sample - loss: 0.0749 - accuracy: 0.9614 - val_loss: 1.1686 - val_accuracy: 0.8030\n",
      "Epoch 11/20\n",
      "7982/7982 [==============================] - 1s 75us/sample - loss: 0.0777 - accuracy: 0.9612 - val_loss: 1.2097 - val_accuracy: 0.7930\n",
      "Epoch 12/20\n",
      "7982/7982 [==============================] - 1s 70us/sample - loss: 0.0731 - accuracy: 0.9652 - val_loss: 1.2688 - val_accuracy: 0.7880\n",
      "Epoch 13/20\n",
      "7982/7982 [==============================] - 1s 72us/sample - loss: 0.0741 - accuracy: 0.9637 - val_loss: 1.1867 - val_accuracy: 0.8050\n",
      "Epoch 14/20\n",
      "7982/7982 [==============================] - 1s 73us/sample - loss: 0.0739 - accuracy: 0.9637 - val_loss: 1.2372 - val_accuracy: 0.7910\n",
      "Epoch 15/20\n",
      "7982/7982 [==============================] - 1s 91us/sample - loss: 0.0744 - accuracy: 0.9625 - val_loss: 1.1922 - val_accuracy: 0.7970\n",
      "Epoch 16/20\n",
      "7982/7982 [==============================] - 1s 74us/sample - loss: 0.0709 - accuracy: 0.9625 - val_loss: 1.2305 - val_accuracy: 0.7970\n",
      "Epoch 17/20\n",
      "7982/7982 [==============================] - 1s 72us/sample - loss: 0.0693 - accuracy: 0.9614 - val_loss: 1.2391 - val_accuracy: 0.7920\n",
      "Epoch 18/20\n",
      "7982/7982 [==============================] - 1s 72us/sample - loss: 0.0710 - accuracy: 0.9633 - val_loss: 1.2646 - val_accuracy: 0.7920\n",
      "Epoch 19/20\n",
      "7982/7982 [==============================] - 1s 71us/sample - loss: 0.0691 - accuracy: 0.9622 - val_loss: 1.2340 - val_accuracy: 0.7980\n",
      "Epoch 20/20\n",
      "7982/7982 [==============================] - 1s 71us/sample - loss: 0.0718 - accuracy: 0.9620 - val_loss: 1.2336 - val_accuracy: 0.7960\n"
     ]
    }
   ],
   "source": [
    "history=model3.fit(partial_x_train,partial_y_train,verbose=1,validation_data=(x_val,y_val),epochs=20,batch_size=512)"
   ]
  },
  {
   "cell_type": "code",
   "execution_count": null,
   "metadata": {},
   "outputs": [],
   "source": []
  },
  {
   "cell_type": "code",
   "execution_count": null,
   "metadata": {},
   "outputs": [],
   "source": [
    "\n"
   ]
  }
 ],
 "metadata": {
  "kernelspec": {
   "display_name": "Python 3",
   "language": "python",
   "name": "python3"
  },
  "language_info": {
   "codemirror_mode": {
    "name": "ipython",
    "version": 3
   },
   "file_extension": ".py",
   "mimetype": "text/x-python",
   "name": "python",
   "nbconvert_exporter": "python",
   "pygments_lexer": "ipython3",
   "version": "3.7.3"
  }
 },
 "nbformat": 4,
 "nbformat_minor": 2
}
