{
 "cells": [
  {
   "cell_type": "code",
   "execution_count": 1,
   "metadata": {},
   "outputs": [],
   "source": [
    "from __future__ import print_function,division,absolute_import\n",
    "\n",
    "import numpy as np\n",
    "import pandas as pd\n",
    "import matplotlib.pyplot as plt\n",
    "import tensorflow as tf\n",
    "from tensorflow import keras"
   ]
  },
  {
   "cell_type": "code",
   "execution_count": 2,
   "metadata": {},
   "outputs": [],
   "source": [
    "x=np.random.randint(1,8,20)\n",
    "y=np.array([(50*i+50)/100 for i in x])"
   ]
  },
  {
   "cell_type": "code",
   "execution_count": 3,
   "metadata": {},
   "outputs": [],
   "source": [
    "from sklearn.model_selection import train_test_split\n",
    "x_train,x_test,y_train,y_test=train_test_split(x,y,test_size=0.3,random_state=123)\n"
   ]
  },
  {
   "cell_type": "code",
   "execution_count": 4,
   "metadata": {},
   "outputs": [],
   "source": [
    "from tensorflow.keras.models import Sequential\n",
    "from tensorflow.keras.layers import Dense\n",
    "model=Sequential([])\n",
    "model.add(Dense(1,input_dim=1))\n",
    "\n"
   ]
  },
  {
   "cell_type": "code",
   "execution_count": 5,
   "metadata": {},
   "outputs": [],
   "source": [
    "model.compile(optimizer='sgd',loss='mean_squared_error',metrics=['accuracy','MAE'])"
   ]
  },
  {
   "cell_type": "code",
   "execution_count": 6,
   "metadata": {},
   "outputs": [
    {
     "name": "stdout",
     "output_type": "stream",
     "text": [
      "Model: \"sequential\"\n",
      "_________________________________________________________________\n",
      "Layer (type)                 Output Shape              Param #   \n",
      "=================================================================\n",
      "dense (Dense)                (None, 1)                 2         \n",
      "=================================================================\n",
      "Total params: 2\n",
      "Trainable params: 2\n",
      "Non-trainable params: 0\n",
      "_________________________________________________________________\n"
     ]
    }
   ],
   "source": [
    "model.summary()"
   ]
  },
  {
   "cell_type": "code",
   "execution_count": 7,
   "metadata": {},
   "outputs": [
    {
     "name": "stdout",
     "output_type": "stream",
     "text": [
      "Train on 14 samples\n",
      "Epoch 1/50\n",
      "14/14 [==============================] - 0s 26ms/sample - loss: 1.5974 - accuracy: 0.0714 - MAE: 1.1242\n",
      "Epoch 2/50\n",
      "14/14 [==============================] - 0s 156us/sample - loss: 0.3617 - accuracy: 0.0714 - MAE: 0.5247\n",
      "Epoch 3/50\n",
      "14/14 [==============================] - 0s 301us/sample - loss: 0.1053 - accuracy: 0.0714 - MAE: 0.2881\n",
      "Epoch 4/50\n",
      "14/14 [==============================] - 0s 209us/sample - loss: 0.0520 - accuracy: 0.0714 - MAE: 0.2002\n",
      "Epoch 5/50\n",
      "14/14 [==============================] - 0s 293us/sample - loss: 0.0407 - accuracy: 0.0714 - MAE: 0.1638\n",
      "Epoch 6/50\n",
      "14/14 [==============================] - 0s 282us/sample - loss: 0.0383 - accuracy: 0.0714 - MAE: 0.1569\n",
      "Epoch 7/50\n",
      "14/14 [==============================] - 0s 387us/sample - loss: 0.0376 - accuracy: 0.0714 - MAE: 0.1546\n",
      "Epoch 8/50\n",
      "14/14 [==============================] - 0s 573us/sample - loss: 0.0373 - accuracy: 0.0714 - MAE: 0.1534\n",
      "Epoch 9/50\n",
      "14/14 [==============================] - 0s 186us/sample - loss: 0.0371 - accuracy: 0.0714 - MAE: 0.1526\n",
      "Epoch 10/50\n",
      "14/14 [==============================] - 0s 461us/sample - loss: 0.0369 - accuracy: 0.0714 - MAE: 0.1520\n",
      "Epoch 11/50\n",
      "14/14 [==============================] - 0s 270us/sample - loss: 0.0367 - accuracy: 0.0714 - MAE: 0.1516\n",
      "Epoch 12/50\n",
      "14/14 [==============================] - 0s 290us/sample - loss: 0.0365 - accuracy: 0.0714 - MAE: 0.1511\n",
      "Epoch 13/50\n",
      "14/14 [==============================] - 0s 423us/sample - loss: 0.0364 - accuracy: 0.0714 - MAE: 0.1507\n",
      "Epoch 14/50\n",
      "14/14 [==============================] - 0s 258us/sample - loss: 0.0362 - accuracy: 0.0714 - MAE: 0.1504\n",
      "Epoch 15/50\n",
      "14/14 [==============================] - 0s 258us/sample - loss: 0.0360 - accuracy: 0.0714 - MAE: 0.1500\n",
      "Epoch 16/50\n",
      "14/14 [==============================] - 0s 284us/sample - loss: 0.0358 - accuracy: 0.0714 - MAE: 0.1496\n",
      "Epoch 17/50\n",
      "14/14 [==============================] - 0s 229us/sample - loss: 0.0356 - accuracy: 0.0714 - MAE: 0.1492\n",
      "Epoch 18/50\n",
      "14/14 [==============================] - 0s 238us/sample - loss: 0.0354 - accuracy: 0.0714 - MAE: 0.1488\n",
      "Epoch 19/50\n",
      "14/14 [==============================] - 0s 262us/sample - loss: 0.0353 - accuracy: 0.0714 - MAE: 0.1485\n",
      "Epoch 20/50\n",
      "14/14 [==============================] - 0s 261us/sample - loss: 0.0351 - accuracy: 0.0714 - MAE: 0.1481\n",
      "Epoch 21/50\n",
      "14/14 [==============================] - 0s 174us/sample - loss: 0.0349 - accuracy: 0.0714 - MAE: 0.1477\n",
      "Epoch 22/50\n",
      "14/14 [==============================] - 0s 265us/sample - loss: 0.0347 - accuracy: 0.0714 - MAE: 0.1473\n",
      "Epoch 23/50\n",
      "14/14 [==============================] - 0s 288us/sample - loss: 0.0346 - accuracy: 0.0714 - MAE: 0.1470\n",
      "Epoch 24/50\n",
      "14/14 [==============================] - 0s 235us/sample - loss: 0.0344 - accuracy: 0.0714 - MAE: 0.1466\n",
      "Epoch 25/50\n",
      "14/14 [==============================] - 0s 225us/sample - loss: 0.0342 - accuracy: 0.0714 - MAE: 0.1462\n",
      "Epoch 26/50\n",
      "14/14 [==============================] - 0s 209us/sample - loss: 0.0340 - accuracy: 0.0714 - MAE: 0.1458\n",
      "Epoch 27/50\n",
      "14/14 [==============================] - 0s 331us/sample - loss: 0.0339 - accuracy: 0.0714 - MAE: 0.1455\n",
      "Epoch 28/50\n",
      "14/14 [==============================] - 0s 140us/sample - loss: 0.0337 - accuracy: 0.0714 - MAE: 0.1451\n",
      "Epoch 29/50\n",
      "14/14 [==============================] - 0s 306us/sample - loss: 0.0335 - accuracy: 0.0714 - MAE: 0.1447\n",
      "Epoch 30/50\n",
      "14/14 [==============================] - 0s 154us/sample - loss: 0.0333 - accuracy: 0.0714 - MAE: 0.1444\n",
      "Epoch 31/50\n",
      "14/14 [==============================] - 0s 218us/sample - loss: 0.0332 - accuracy: 0.0714 - MAE: 0.1440\n",
      "Epoch 32/50\n",
      "14/14 [==============================] - 0s 259us/sample - loss: 0.0330 - accuracy: 0.0714 - MAE: 0.1436\n",
      "Epoch 33/50\n",
      "14/14 [==============================] - 0s 174us/sample - loss: 0.0328 - accuracy: 0.0714 - MAE: 0.1433\n",
      "Epoch 34/50\n",
      "14/14 [==============================] - 0s 209us/sample - loss: 0.0327 - accuracy: 0.0714 - MAE: 0.1429\n",
      "Epoch 35/50\n",
      "14/14 [==============================] - 0s 248us/sample - loss: 0.0325 - accuracy: 0.0714 - MAE: 0.1425\n",
      "Epoch 36/50\n",
      "14/14 [==============================] - 0s 202us/sample - loss: 0.0323 - accuracy: 0.0714 - MAE: 0.1422\n",
      "Epoch 37/50\n",
      "14/14 [==============================] - 0s 196us/sample - loss: 0.0322 - accuracy: 0.0714 - MAE: 0.1418\n",
      "Epoch 38/50\n",
      "14/14 [==============================] - 0s 159us/sample - loss: 0.0320 - accuracy: 0.0714 - MAE: 0.1415\n",
      "Epoch 39/50\n",
      "14/14 [==============================] - 0s 301us/sample - loss: 0.0319 - accuracy: 0.0714 - MAE: 0.1411\n",
      "Epoch 40/50\n",
      "14/14 [==============================] - 0s 285us/sample - loss: 0.0317 - accuracy: 0.0714 - MAE: 0.1407\n",
      "Epoch 41/50\n",
      "14/14 [==============================] - 0s 166us/sample - loss: 0.0315 - accuracy: 0.0714 - MAE: 0.1404\n",
      "Epoch 42/50\n",
      "14/14 [==============================] - 0s 265us/sample - loss: 0.0314 - accuracy: 0.0714 - MAE: 0.1400\n",
      "Epoch 43/50\n",
      "14/14 [==============================] - 0s 227us/sample - loss: 0.0312 - accuracy: 0.0714 - MAE: 0.1397\n",
      "Epoch 44/50\n",
      "14/14 [==============================] - 0s 362us/sample - loss: 0.0311 - accuracy: 0.0714 - MAE: 0.1393\n",
      "Epoch 45/50\n",
      "14/14 [==============================] - 0s 300us/sample - loss: 0.0309 - accuracy: 0.0714 - MAE: 0.1390\n",
      "Epoch 46/50\n",
      "14/14 [==============================] - 0s 344us/sample - loss: 0.0307 - accuracy: 0.0714 - MAE: 0.1386\n",
      "Epoch 47/50\n",
      "14/14 [==============================] - 0s 301us/sample - loss: 0.0306 - accuracy: 0.0714 - MAE: 0.1383\n",
      "Epoch 48/50\n",
      "14/14 [==============================] - 0s 239us/sample - loss: 0.0304 - accuracy: 0.0714 - MAE: 0.1379\n",
      "Epoch 49/50\n",
      "14/14 [==============================] - 0s 341us/sample - loss: 0.0303 - accuracy: 0.0714 - MAE: 0.1376\n",
      "Epoch 50/50\n",
      "14/14 [==============================] - 0s 372us/sample - loss: 0.0301 - accuracy: 0.0714 - MAE: 0.1372\n"
     ]
    },
    {
     "data": {
      "text/plain": [
       "<tensorflow.python.keras.callbacks.History at 0x7fafc550c2b0>"
      ]
     },
     "execution_count": 7,
     "metadata": {},
     "output_type": "execute_result"
    }
   ],
   "source": [
    "model.fit(x_train,y_train,epochs=50)"
   ]
  },
  {
   "cell_type": "code",
   "execution_count": 8,
   "metadata": {},
   "outputs": [
    {
     "data": {
      "text/plain": [
       "array([[5.3070183]], dtype=float32)"
      ]
     },
     "execution_count": 8,
     "metadata": {},
     "output_type": "execute_result"
    }
   ],
   "source": [
    "model.predict([9])"
   ]
  },
  {
   "cell_type": "code",
   "execution_count": 9,
   "metadata": {},
   "outputs": [
    {
     "data": {
      "text/plain": [
       "array([5, 4, 3, 6, 7, 5, 1, 7, 3, 5, 6, 7, 2, 6])"
      ]
     },
     "execution_count": 9,
     "metadata": {},
     "output_type": "execute_result"
    }
   ],
   "source": [
    "x_train"
   ]
  },
  {
   "cell_type": "code",
   "execution_count": 10,
   "metadata": {},
   "outputs": [
    {
     "data": {
      "text/plain": [
       "array([3. , 2.5, 2. , 3.5, 4. , 3. , 1. , 4. , 2. , 3. , 3.5, 4. , 1.5,\n",
       "       3.5])"
      ]
     },
     "execution_count": 10,
     "metadata": {},
     "output_type": "execute_result"
    }
   ],
   "source": [
    "y_train"
   ]
  },
  {
   "cell_type": "code",
   "execution_count": null,
   "metadata": {},
   "outputs": [],
   "source": []
  }
 ],
 "metadata": {
  "kernelspec": {
   "display_name": "Python 3",
   "language": "python",
   "name": "python3"
  },
  "language_info": {
   "codemirror_mode": {
    "name": "ipython",
    "version": 3
   },
   "file_extension": ".py",
   "mimetype": "text/x-python",
   "name": "python",
   "nbconvert_exporter": "python",
   "pygments_lexer": "ipython3",
   "version": "3.7.3"
  }
 },
 "nbformat": 4,
 "nbformat_minor": 2
}
