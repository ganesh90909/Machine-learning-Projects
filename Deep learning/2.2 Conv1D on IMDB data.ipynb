{
 "cells": [
  {
   "cell_type": "code",
   "execution_count": 1,
   "metadata": {},
   "outputs": [],
   "source": [
    "import numpy as np\n",
    "import pandas as pd\n",
    "import tensorflow as tf\n"
   ]
  },
  {
   "cell_type": "code",
   "execution_count": 2,
   "metadata": {},
   "outputs": [],
   "source": [
    "from tensorflow import keras"
   ]
  },
  {
   "cell_type": "code",
   "execution_count": 3,
   "metadata": {},
   "outputs": [],
   "source": [
    "from tensorflow.keras.datasets import imdb\n"
   ]
  },
  {
   "cell_type": "code",
   "execution_count": 4,
   "metadata": {},
   "outputs": [],
   "source": [
    "(x_train,y_train),(x_test,y_test)=imdb.load_data(num_words=10000)"
   ]
  },
  {
   "cell_type": "code",
   "execution_count": 12,
   "metadata": {},
   "outputs": [],
   "source": [
    "from tensorflow.keras.models import Sequential\n",
    "from tensorflow.keras.layers import Conv1D,MaxPooling1D,Dense,Embedding,GlobalMaxPooling1D"
   ]
  },
  {
   "cell_type": "code",
   "execution_count": 10,
   "metadata": {},
   "outputs": [],
   "source": [
    "#padding sequences\n",
    "from tensorflow.keras.preprocessing.sequence import pad_sequences\n",
    "x_train=pad_sequences(x_train,maxlen=500)\n",
    "x_test=pad_sequences(x_test,maxlen=500)"
   ]
  },
  {
   "cell_type": "code",
   "execution_count": 19,
   "metadata": {},
   "outputs": [],
   "source": [
    "model=Sequential([\n",
    "    Embedding(10000,128,input_length=500),\n",
    "    Conv1D(32,7,activation='relu'),\n",
    "    MaxPooling1D(5),\n",
    "    Conv1D(32,7,activation='relu'),\n",
    "    GlobalMaxPooling1D(),\n",
    "    Dense(1,activation='sigmoid')\n",
    "])"
   ]
  },
  {
   "cell_type": "code",
   "execution_count": 20,
   "metadata": {},
   "outputs": [
    {
     "name": "stdout",
     "output_type": "stream",
     "text": [
      "Model: \"sequential_1\"\n",
      "_________________________________________________________________\n",
      "Layer (type)                 Output Shape              Param #   \n",
      "=================================================================\n",
      "embedding_1 (Embedding)      (None, 500, 128)          1280000   \n",
      "_________________________________________________________________\n",
      "conv1d_2 (Conv1D)            (None, 494, 32)           28704     \n",
      "_________________________________________________________________\n",
      "max_pooling1d_1 (MaxPooling1 (None, 98, 32)            0         \n",
      "_________________________________________________________________\n",
      "conv1d_3 (Conv1D)            (None, 92, 32)            7200      \n",
      "_________________________________________________________________\n",
      "global_max_pooling1d_1 (Glob (None, 32)                0         \n",
      "_________________________________________________________________\n",
      "dense_1 (Dense)              (None, 1)                 33        \n",
      "=================================================================\n",
      "Total params: 1,315,937\n",
      "Trainable params: 1,315,937\n",
      "Non-trainable params: 0\n",
      "_________________________________________________________________\n"
     ]
    }
   ],
   "source": [
    "model.summary()"
   ]
  },
  {
   "cell_type": "code",
   "execution_count": 21,
   "metadata": {},
   "outputs": [],
   "source": [
    "model.compile(optimizer='rmsprop',loss='binary_crossentropy',metrics=['accuracy'])"
   ]
  },
  {
   "cell_type": "code",
   "execution_count": 26,
   "metadata": {},
   "outputs": [
    {
     "name": "stdout",
     "output_type": "stream",
     "text": [
      "Train on 20000 samples, validate on 5000 samples\n",
      "Epoch 1/10\n",
      "20000/20000 [==============================] - 27s 1ms/sample - loss: 0.1109 - accuracy: 0.9617 - val_loss: 0.3775 - val_accuracy: 0.8658\n",
      "Epoch 2/10\n",
      "20000/20000 [==============================] - 27s 1ms/sample - loss: 0.0738 - accuracy: 0.9769 - val_loss: 0.4269 - val_accuracy: 0.8604\n",
      "Epoch 3/10\n",
      "20000/20000 [==============================] - 27s 1ms/sample - loss: 0.0444 - accuracy: 0.9872 - val_loss: 0.4676 - val_accuracy: 0.8616\n",
      "Epoch 4/10\n",
      "20000/20000 [==============================] - 27s 1ms/sample - loss: 0.0234 - accuracy: 0.9947 - val_loss: 0.5480 - val_accuracy: 0.8552\n",
      "Epoch 5/10\n",
      "20000/20000 [==============================] - 27s 1ms/sample - loss: 0.0120 - accuracy: 0.9969 - val_loss: 0.5991 - val_accuracy: 0.8544\n",
      "Epoch 6/10\n",
      "20000/20000 [==============================] - 27s 1ms/sample - loss: 0.0046 - accuracy: 0.9989 - val_loss: 0.7071 - val_accuracy: 0.8530\n",
      "Epoch 7/10\n",
      "20000/20000 [==============================] - 27s 1ms/sample - loss: 0.0019 - accuracy: 0.9998 - val_loss: 0.8175 - val_accuracy: 0.8524\n",
      "Epoch 8/10\n",
      "20000/20000 [==============================] - 27s 1ms/sample - loss: 9.2687e-04 - accuracy: 0.9999 - val_loss: 0.9135 - val_accuracy: 0.8544\n",
      "Epoch 9/10\n",
      "20000/20000 [==============================] - 28s 1ms/sample - loss: 6.4595e-04 - accuracy: 0.9999 - val_loss: 1.0091 - val_accuracy: 0.8524\n",
      "Epoch 10/10\n",
      "20000/20000 [==============================] - 29s 1ms/sample - loss: 2.8264e-04 - accuracy: 0.9999 - val_loss: 1.1276 - val_accuracy: 0.8496\n"
     ]
    }
   ],
   "source": [
    "hist=model.fit(x_train,y_train,epochs=10,batch_size=128,validation_split=0.2)"
   ]
  },
  {
   "cell_type": "code",
   "execution_count": 27,
   "metadata": {},
   "outputs": [
    {
     "name": "stdout",
     "output_type": "stream",
     "text": [
      "25000/25000 [==============================] - 9s 357us/sample - loss: 1.2207 - accuracy: 0.8361\n"
     ]
    }
   ],
   "source": [
    "model_loss,model_acc=model.evaluate(x_test,y_test)"
   ]
  },
  {
   "cell_type": "code",
   "execution_count": 28,
   "metadata": {},
   "outputs": [
    {
     "data": {
      "text/plain": [
       "0.83608"
      ]
     },
     "execution_count": 28,
     "metadata": {},
     "output_type": "execute_result"
    }
   ],
   "source": [
    "model_acc"
   ]
  },
  {
   "cell_type": "code",
   "execution_count": 29,
   "metadata": {},
   "outputs": [
    {
     "data": {
      "text/plain": [
       "1.2207337281879782"
      ]
     },
     "execution_count": 29,
     "metadata": {},
     "output_type": "execute_result"
    }
   ],
   "source": [
    "model_loss"
   ]
  },
  {
   "cell_type": "code",
   "execution_count": null,
   "metadata": {},
   "outputs": [],
   "source": []
  }
 ],
 "metadata": {
  "kernelspec": {
   "display_name": "Python 3",
   "language": "python",
   "name": "python3"
  },
  "language_info": {
   "codemirror_mode": {
    "name": "ipython",
    "version": 3
   },
   "file_extension": ".py",
   "mimetype": "text/x-python",
   "name": "python",
   "nbconvert_exporter": "python",
   "pygments_lexer": "ipython3",
   "version": "3.7.3"
  }
 },
 "nbformat": 4,
 "nbformat_minor": 2
}
